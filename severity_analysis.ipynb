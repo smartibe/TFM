{
 "cells": [
  {
   "cell_type": "markdown",
   "id": "f6783d9c",
   "metadata": {},
   "source": [
    "# Anàlisis de severitat\n",
    "\n",
    "En aquesta part del TFM aplicarem diferents mètodes supervisats i tractarem d'optimitzar diferents mètriques amb l'objectiu de classificar els accidents localitzats, amb la major precisió possible, segons la severitat de l'accident i a través de les dades sobre mesures del mateix (límit de velocitat de la zona, nombre de vehícles en l'esdeveniment, nombre de persones en l'esdeveniment, tipus d'accident, estat de la carretera) i amb les dades mediambientals (temperatura, llum, humitat).\n",
    "\n",
    "Algorismes supervisats que utilitzare:\n",
    "\n",
    "    1 - K-NN\n",
    "    2 - Super Vector Machine \n",
    "    3 - Arbre de decisió\n",
    "    4 - Random Forest\n",
    "    5 - Gradient Boosting"
   ]
  },
  {
   "cell_type": "code",
   "execution_count": 1,
   "id": "b4c5fa4c",
   "metadata": {},
   "outputs": [],
   "source": [
    "# Importació de llibreries\n",
    "from io import StringIO\n",
    "from IPython.display import Image\n",
    "import matplotlib as mpl\n",
    "from matplotlib.colors import ListedColormap\n",
    "import matplotlib.pyplot as plt\n",
    "import numpy as np\n",
    "import pandas as pd\n",
    "from codecarbon import EmissionsTracker\n",
    "import timeit\n",
    "# import pydotplus\n",
    "import seaborn as sns\n",
    "from sklearn import svm\n",
    "from sklearn.ensemble import RandomForestClassifier, GradientBoostingClassifier, RandomForestRegressor\n",
    "from sklearn.metrics import confusion_matrix, accuracy_score, mean_squared_error\n",
    "from sklearn.model_selection import train_test_split, GridSearchCV, RandomizedSearchCV\n",
    "from sklearn.tree import DecisionTreeClassifier, DecisionTreeRegressor, export_graphviz, plot_tree\n",
    "from sklearn.neighbors import KNeighborsClassifier\n",
    "from sklearn.preprocessing import OneHotEncoder\n",
    "from sklearn.preprocessing import MinMaxScaler\n",
    "from sklearn.inspection import permutation_importance\n",
    "import platform\n",
    "import psutil\n",
    "import json\n",
    "import random"
   ]
  },
  {
   "cell_type": "code",
   "execution_count": 2,
   "id": "39b11d42",
   "metadata": {},
   "outputs": [],
   "source": [
    "random.seed(111)"
   ]
  },
  {
   "cell_type": "code",
   "execution_count": 3,
   "id": "1c68fdb2",
   "metadata": {},
   "outputs": [],
   "source": [
    "# Càrrega de dades\n",
    "acc_meas = pd.read_csv(\"measures_accidents_localitzats.csv\")\n",
    "\n",
    "cat_type_veh = pd.CategoricalDtype(categories=[1,2,3,4,5,6], ordered=True)\n",
    "cat_type_per = pd.CategoricalDtype(categories=[1,2,3,4,5,6,7,8,9,10], ordered=True)\n",
    "cat_type_sev = pd.CategoricalDtype(categories=[3,2,1], ordered=True)\n",
    "\n",
    "# creating instance of one-hot-encoder\n",
    "enc = OneHotEncoder(handle_unknown='ignore')\n",
    "\n",
    "enc_df = pd.DataFrame(enc.fit_transform(acc_meas[['SPEED_ZONE']]).toarray())\n",
    "enc_df = enc_df.rename(columns = {0 : 'SZ_40'\n",
    "                                 ,1: 'SZ_50'\n",
    "                                 ,2: 'SZ_60'\n",
    "                                 ,3: 'SZ_70'\n",
    "                                 ,4: 'SZ_80'\n",
    "                                 ,5: 'SZ_100'\n",
    "                                 ,6: 'SZ_NULL' })\n",
    "\n",
    "\n",
    "acc_meas = acc_meas.join(enc_df)\n",
    "\n",
    "# Modifiquem tipus\n",
    "acc_meas = acc_meas.astype({'ACCIDENT_TYPE': 'category'\n",
    "                              ,'NO_OF_VEHICLES': cat_type_veh\n",
    "                              ,'NO_PERSONS': cat_type_per\n",
    "                              ,'SEVERITY':cat_type_sev\n",
    "                              ,'SURFACE_COND': 'category'\n",
    "                              ,'SZ_40': 'category'\n",
    "                              ,'SZ_50': 'category'\n",
    "                              ,'SZ_60': 'category'\n",
    "                              ,'SZ_70': 'category'\n",
    "                              ,'SZ_80': 'category'\n",
    "                              ,'SZ_100': 'category'})\n",
    "\n",
    "\n",
    "\n",
    "#Normalitzem\n",
    "scaler = MinMaxScaler()\n",
    "acc_meas_df = scaler.fit_transform(acc_meas[['temp_avg', 'light_avg','humidity_avg']])\n",
    "acc_meas_df = pd.DataFrame(acc_meas_df, columns=['temp_avg_scale', 'light_avg_scale', 'humidity_avg_scale'])\n",
    "acc_meas = pd.concat([acc_meas, acc_meas_df], axis=1)\n",
    "\n",
    "# Dividim el conjunt de dades\n",
    "X = acc_meas[['SURFACE_COND','ACCIDENT_TYPE', 'SZ_40','SZ_50','SZ_60','SZ_70','SZ_80','SZ_100', 'NO_OF_VEHICLES', 'NO_PERSONS', 'temp_avg_scale', 'light_avg_scale', 'humidity_avg_scale']]\n",
    "y = acc_meas['SEVERITY']\n",
    "\n",
    "\n",
    "X_train, X_test, y_train, y_test = train_test_split(X, y, train_size=0.8, random_state=0)"
   ]
  },
  {
   "cell_type": "code",
   "execution_count": 4,
   "id": "b7cec8f1",
   "metadata": {},
   "outputs": [
    {
     "data": {
      "text/plain": [
       "{'platform': 'Linux',\n",
       " 'platform-release': '5.4.0-122-generic',\n",
       " 'platform-version': '#138-Ubuntu SMP Wed Jun 22 15:00:31 UTC 2022',\n",
       " 'node-name': 'JptHub01',\n",
       " 'architecture': 'x86_64',\n",
       " 'processor': 'x86_64',\n",
       " 'ram': '31 GB'}"
      ]
     },
     "execution_count": 4,
     "metadata": {},
     "output_type": "execute_result"
    }
   ],
   "source": [
    "def getSystemInfo():\n",
    "    try:\n",
    "        info={}\n",
    "        info['platform']=platform.system()\n",
    "        info['platform-release']=platform.release()\n",
    "        info['platform-version']=platform.version()\n",
    "        info['node-name']=platform.node()\n",
    "        info['architecture']=platform.machine()\n",
    "        info['processor']=platform.processor()\n",
    "        info['ram']=str(round(psutil.virtual_memory().total / (1024.0 **3)))+\" GB\"\n",
    "        return json.dumps(info)\n",
    "    except Exception as e:\n",
    "        logging.exception(e)\n",
    "\n",
    "json.loads(getSystemInfo())"
   ]
  },
  {
   "cell_type": "markdown",
   "id": "6e6ec874",
   "metadata": {},
   "source": [
    "Cap de les variables numèriques mostren una correlació superior al 90%; per tant, la única variable que hem eliminar ha sigut la SZ_NULL, és a dir, les zones de velocitat no recollides. D'aquesta manera, també eliminem la col·linealitat d'aquestes variables \"SZ\" una vegada transformades a One Hot."
   ]
  },
  {
   "cell_type": "code",
   "execution_count": 5,
   "id": "2574959f",
   "metadata": {},
   "outputs": [
    {
     "data": {
      "image/png": "[encoded data removed]",
      "text/plain": [
       "<Figure size 432x288 with 2 Axes>"
      ]
     },
     "metadata": {
      "needs_background": "light"
     },
     "output_type": "display_data"
    }
   ],
   "source": [
    "data_corr = X.corr()\n",
    "ax = sns.heatmap(data_corr)"
   ]
  },
  {
   "cell_type": "markdown",
   "id": "c9c7426f",
   "metadata": {},
   "source": [
    "## K - Nearest Neighbours (K-NN)"
   ]
  },
  {
   "cell_type": "markdown",
   "id": "a9987fcd",
   "metadata": {},
   "source": [
    "El primer algoritme que utilitzarem per a classificar els punts és el  k-nn. Tindrem en compte dos hiperparàmetres del algoritme per obtenir la major precisió.\n",
    "\n",
    "- **k**: és el nombre de veïns més propers. Provarem tots els valors entre 1 i 10\n",
    "- **pesos**: importància que es dona a cadascun dels veïns considerats. Provarem \"uniforme\", on tots els veïns tindran el mateix pes, i pesos segons distància (\"distance\"), on els veïns més propers tindran més pes."
   ]
  },
  {
   "cell_type": "code",
   "execution_count": 6,
   "id": "c37bf048",
   "metadata": {},
   "outputs": [],
   "source": [
    "# Establim els paràmetres\n",
    "k     = list(range(1,11))\n",
    "pesos = ['uniform','distance']\n",
    "hiperParam = dict(n_neighbors=k, weights=pesos)"
   ]
  },
  {
   "cell_type": "code",
   "execution_count": 7,
   "id": "860699be",
   "metadata": {},
   "outputs": [
    {
     "name": "stderr",
     "output_type": "stream",
     "text": [
      "/usr/local/lib/python3.8/dist-packages/sklearn/model_selection/_split.py:666: UserWarning: The least populated class in y has only 1 members, which is less than n_splits=4.\n",
      "  warnings.warn((\"The least populated class in y has only %d\"\n"
     ]
    },
    {
     "data": {
      "image/png": "[encoded data removed]",
      "text/plain": [
       "<Figure size 432x288 with 2 Axes>"
      ]
     },
     "metadata": {
      "needs_background": "light"
     },
     "output_type": "display_data"
    }
   ],
   "source": [
    "# Generem el model\n",
    "knn = KNeighborsClassifier(n_neighbors=10)\n",
    "\n",
    "# Apliquem GridSearchCV\n",
    "grid = GridSearchCV(knn, \n",
    "                    param_grid=hiperParam, \n",
    "                    cv=4, \n",
    "                    scoring='accuracy')\n",
    "\n",
    "# Entrenem\n",
    "grid.fit(X_train, y_train)\n",
    "\n",
    "# Resultat\n",
    "# Aquest és el resultat obtingut\n",
    "result_pvt = pd.pivot_table(pd.DataFrame(grid.cv_results_),\n",
    "         values='mean_test_score', index='param_weights', columns='param_n_neighbors')\n",
    "\n",
    "ax = plt.axes()\n",
    "ax.text(12.5,1.20,'accuracy', rotation = 270)\n",
    "sns.heatmap(result_pvt, ax = ax )     \n",
    "ax.set_title('K-NN')\n",
    "plt.show()"
   ]
  },
  {
   "cell_type": "code",
   "execution_count": 8,
   "id": "7af7099e",
   "metadata": {},
   "outputs": [
    {
     "data": {
      "text/html": [
       "<div>\n",
       "<style scoped>\n",
       "    .dataframe tbody tr th:only-of-type {\n",
       "        vertical-align: middle;\n",
       "    }\n",
       "\n",
       "    .dataframe tbody tr th {\n",
       "        vertical-align: top;\n",
       "    }\n",
       "\n",
       "    .dataframe thead th {\n",
       "        text-align: right;\n",
       "    }\n",
       "</style>\n",
       "<table border=\"1\" class=\"dataframe\">\n",
       "  <thead>\n",
       "    <tr style=\"text-align: right;\">\n",
       "      <th>param_n_neighbors</th>\n",
       "      <th>1</th>\n",
       "      <th>2</th>\n",
       "      <th>3</th>\n",
       "      <th>4</th>\n",
       "      <th>5</th>\n",
       "      <th>6</th>\n",
       "      <th>7</th>\n",
       "      <th>8</th>\n",
       "      <th>9</th>\n",
       "      <th>10</th>\n",
       "    </tr>\n",
       "    <tr>\n",
       "      <th>param_weights</th>\n",
       "      <th></th>\n",
       "      <th></th>\n",
       "      <th></th>\n",
       "      <th></th>\n",
       "      <th></th>\n",
       "      <th></th>\n",
       "      <th></th>\n",
       "      <th></th>\n",
       "      <th></th>\n",
       "      <th></th>\n",
       "    </tr>\n",
       "  </thead>\n",
       "  <tbody>\n",
       "    <tr>\n",
       "      <th>distance</th>\n",
       "      <td>0.773864</td>\n",
       "      <td>0.773864</td>\n",
       "      <td>0.801055</td>\n",
       "      <td>0.810065</td>\n",
       "      <td>0.814529</td>\n",
       "      <td>0.805357</td>\n",
       "      <td>0.814448</td>\n",
       "      <td>0.828084</td>\n",
       "      <td>0.832549</td>\n",
       "      <td>0.837094</td>\n",
       "    </tr>\n",
       "    <tr>\n",
       "      <th>uniform</th>\n",
       "      <td>0.773864</td>\n",
       "      <td>0.715260</td>\n",
       "      <td>0.769399</td>\n",
       "      <td>0.674107</td>\n",
       "      <td>0.656250</td>\n",
       "      <td>0.642370</td>\n",
       "      <td>0.655925</td>\n",
       "      <td>0.642370</td>\n",
       "      <td>0.678734</td>\n",
       "      <td>0.665179</td>\n",
       "    </tr>\n",
       "  </tbody>\n",
       "</table>\n",
       "</div>"
      ],
      "text/plain": [
       "param_n_neighbors        1         2         3         4         5         6   \\\n",
       "param_weights                                                                   \n",
       "distance           0.773864  0.773864  0.801055  0.810065  0.814529  0.805357   \n",
       "uniform            0.773864  0.715260  0.769399  0.674107  0.656250  0.642370   \n",
       "\n",
       "param_n_neighbors        7         8         9         10  \n",
       "param_weights                                              \n",
       "distance           0.814448  0.828084  0.832549  0.837094  \n",
       "uniform            0.655925  0.642370  0.678734  0.665179  "
      ]
     },
     "execution_count": 8,
     "metadata": {},
     "output_type": "execute_result"
    }
   ],
   "source": [
    "result_pvt"
   ]
  },
  {
   "cell_type": "markdown",
   "id": "a586a1d4",
   "metadata": {},
   "source": [
    "Notem que k = 10 i pes distància obtenim una major precisió"
   ]
  },
  {
   "cell_type": "code",
   "execution_count": 9,
   "id": "9564c61a",
   "metadata": {},
   "outputs": [
    {
     "name": "stderr",
     "output_type": "stream",
     "text": [
      "[codecarbon INFO @ 20:47:19] [setup] RAM Tracking...\n",
      "[codecarbon INFO @ 20:47:19] [setup] GPU Tracking...\n",
      "[codecarbon INFO @ 20:47:19] No GPU found.\n",
      "[codecarbon INFO @ 20:47:19] [setup] CPU Tracking...\n",
      "[codecarbon WARNING @ 20:47:19] No CPU tracking mode found. Falling back on CPU constant mode.\n",
      "[codecarbon WARNING @ 20:47:21] We saw that you have a Intel(R) Xeon(R) CPU E5-2630 v3 @ 2.40GHz but we don't know it. Please contact us.\n",
      "[codecarbon INFO @ 20:47:21] CPU Model on constant consumption mode: Intel(R) Xeon(R) CPU E5-2630 v3 @ 2.40GHz\n",
      "[codecarbon INFO @ 20:47:21] >>> Tracker's metadata:\n",
      "[codecarbon INFO @ 20:47:21]   Platform system: Linux-5.4.0-122-generic-x86_64-with-glibc2.29\n",
      "[codecarbon INFO @ 20:47:21]   Python version: 3.8.10\n",
      "[codecarbon INFO @ 20:47:21]   Available RAM : 31.360 GB\n",
      "[codecarbon INFO @ 20:47:21]   CPU count: 8\n",
      "[codecarbon INFO @ 20:47:21]   CPU model: Intel(R) Xeon(R) CPU E5-2630 v3 @ 2.40GHz\n",
      "[codecarbon INFO @ 20:47:21]   GPU count: None\n",
      "[codecarbon INFO @ 20:47:21]   GPU model: None\n",
      "[codecarbon INFO @ 20:47:23] Energy consumed for RAM : 0.000000 kWh. RAM Power : 11.759862899780273 W\n",
      "[codecarbon INFO @ 20:47:23] Energy consumed for all CPUs : 0.000000 kWh. All CPUs Power : 42.5 W\n",
      "[codecarbon INFO @ 20:47:23] 0.000000 kWh of electricity used since the begining.\n"
     ]
    },
    {
     "name": "stdout",
     "output_type": "stream",
     "text": [
      "RESULTAT K-NN :\n",
      "- Accuracy: 82.143\n",
      "- Emissions C02: 2.1352524149038905e-08\n",
      "- Temps: 0.0049928706139326096\n"
     ]
    }
   ],
   "source": [
    "# Apliquem l'hiperparàmetre amb major precisió i entrenem\n",
    "knn = KNeighborsClassifier(n_neighbors=10, weights='distance')\n",
    "\n",
    "# Codecarbon + timeit\n",
    "\n",
    "tracker = EmissionsTracker()\n",
    "\n",
    "tracker.start()\n",
    "starttime = timeit.default_timer()\n",
    "\n",
    "knn.fit(X_train, y_train)\n",
    "\n",
    "time = timeit.default_timer() - starttime\n",
    "\n",
    "emissions: float = tracker.stop()\n",
    "\n",
    "# Apliquem predict sobre test\n",
    "y_pred = knn.predict(X_test)\n",
    "\n",
    "# Pintem l'accuracy del model i la matriu de confusió\n",
    "print(\"RESULTAT K-NN :\")\n",
    "print('- Accuracy: {}'.format(round(accuracy_score(y_test, y_pred)*100, 3)))\n",
    "print('- Emissions C02: {}'.format(emissions))\n",
    "print('- Temps: {}'.format(time))"
   ]
  },
  {
   "cell_type": "markdown",
   "id": "e1512617",
   "metadata": {},
   "source": [
    "## Super Vector Machine (SVM)"
   ]
  },
  {
   "cell_type": "markdown",
   "id": "f7bbffc0",
   "metadata": {},
   "source": [
    "El segon algoritme que utilitzarem és SVM a través de la kernel radial. En aquest cas els hiperparàmetres a optimitzar són:\n",
    "\n",
    "- **C**: Valor de penalització dels errors en al classificació. Provarem entre els valors 0.01, 0.1, 1, 10, 50, 100 i 200.\n",
    "- **gamma**: Coeficient que multiplica la distància entre dos punts al kernel radial."
   ]
  },
  {
   "cell_type": "code",
   "execution_count": 10,
   "id": "39e22945",
   "metadata": {},
   "outputs": [],
   "source": [
    "# Establim els paràmetres\n",
    "C_param     = [0.01, 0.1, 1, 10, 50, 100, 200]\n",
    "gamma_param = [0.001, 0.01, 0.1, 1, 10]\n",
    "hiperParam = dict(C=C_param, gamma=gamma_param)"
   ]
  },
  {
   "cell_type": "code",
   "execution_count": 11,
   "id": "0a5da9d8",
   "metadata": {},
   "outputs": [
    {
     "name": "stderr",
     "output_type": "stream",
     "text": [
      "/usr/local/lib/python3.8/dist-packages/sklearn/model_selection/_split.py:666: UserWarning: The least populated class in y has only 1 members, which is less than n_splits=4.\n",
      "  warnings.warn((\"The least populated class in y has only %d\"\n"
     ]
    },
    {
     "data": {
      "image/png": "[encoded data removed]",
      "text/plain": [
       "<Figure size 432x288 with 2 Axes>"
      ]
     },
     "metadata": {
      "needs_background": "light"
     },
     "output_type": "display_data"
    }
   ],
   "source": [
    "# Generem el model\n",
    "classifier = svm.SVC(kernel=\"rbf\")\n",
    "\n",
    "# Apliquem GridSearchCV\n",
    "grid = GridSearchCV(classifier, \n",
    "                    param_grid=hiperParam, \n",
    "                    cv=4, \n",
    "                    scoring='accuracy')\n",
    "\n",
    "grid.fit(X_train, y_train)\n",
    "grid.cv_results_\n",
    "\n",
    "# Resultat\n",
    "result_pvt = pd.pivot_table(pd.DataFrame(grid.cv_results_),\n",
    "         values='mean_test_score', index='param_C', columns='param_gamma')\n",
    "\n",
    "ax = plt.axes()\n",
    "ax.text(6.1,3.,'accuracy', rotation = 270)\n",
    "sns.heatmap(result_pvt, ax = ax )\n",
    "ax.set_title('SVM')\n",
    "plt.show()"
   ]
  },
  {
   "cell_type": "markdown",
   "id": "af29dea1",
   "metadata": {},
   "source": [
    "C = 10 i gamma = 10"
   ]
  },
  {
   "cell_type": "code",
   "execution_count": 12,
   "id": "a671f99b",
   "metadata": {},
   "outputs": [
    {
     "data": {
      "text/html": [
       "<div>\n",
       "<style scoped>\n",
       "    .dataframe tbody tr th:only-of-type {\n",
       "        vertical-align: middle;\n",
       "    }\n",
       "\n",
       "    .dataframe tbody tr th {\n",
       "        vertical-align: top;\n",
       "    }\n",
       "\n",
       "    .dataframe thead th {\n",
       "        text-align: right;\n",
       "    }\n",
       "</style>\n",
       "<table border=\"1\" class=\"dataframe\">\n",
       "  <thead>\n",
       "    <tr style=\"text-align: right;\">\n",
       "      <th>param_gamma</th>\n",
       "      <th>0.001</th>\n",
       "      <th>0.010</th>\n",
       "      <th>0.100</th>\n",
       "      <th>1.000</th>\n",
       "      <th>10.000</th>\n",
       "    </tr>\n",
       "    <tr>\n",
       "      <th>param_C</th>\n",
       "      <th></th>\n",
       "      <th></th>\n",
       "      <th></th>\n",
       "      <th></th>\n",
       "      <th></th>\n",
       "    </tr>\n",
       "  </thead>\n",
       "  <tbody>\n",
       "    <tr>\n",
       "      <th>0.01</th>\n",
       "      <td>0.705925</td>\n",
       "      <td>0.705925</td>\n",
       "      <td>0.705925</td>\n",
       "      <td>0.705925</td>\n",
       "      <td>0.705925</td>\n",
       "    </tr>\n",
       "    <tr>\n",
       "      <th>0.10</th>\n",
       "      <td>0.705925</td>\n",
       "      <td>0.705925</td>\n",
       "      <td>0.705925</td>\n",
       "      <td>0.705925</td>\n",
       "      <td>0.705925</td>\n",
       "    </tr>\n",
       "    <tr>\n",
       "      <th>1.00</th>\n",
       "      <td>0.705925</td>\n",
       "      <td>0.705925</td>\n",
       "      <td>0.715097</td>\n",
       "      <td>0.796347</td>\n",
       "      <td>0.832630</td>\n",
       "    </tr>\n",
       "    <tr>\n",
       "      <th>10.00</th>\n",
       "      <td>0.705925</td>\n",
       "      <td>0.706006</td>\n",
       "      <td>0.764854</td>\n",
       "      <td>0.818994</td>\n",
       "      <td>0.846185</td>\n",
       "    </tr>\n",
       "    <tr>\n",
       "      <th>50.00</th>\n",
       "      <td>0.705925</td>\n",
       "      <td>0.710552</td>\n",
       "      <td>0.805438</td>\n",
       "      <td>0.837094</td>\n",
       "      <td>0.841640</td>\n",
       "    </tr>\n",
       "    <tr>\n",
       "      <th>100.00</th>\n",
       "      <td>0.701461</td>\n",
       "      <td>0.724107</td>\n",
       "      <td>0.814529</td>\n",
       "      <td>0.841640</td>\n",
       "      <td>0.841640</td>\n",
       "    </tr>\n",
       "    <tr>\n",
       "      <th>200.00</th>\n",
       "      <td>0.706006</td>\n",
       "      <td>0.733036</td>\n",
       "      <td>0.809903</td>\n",
       "      <td>0.837094</td>\n",
       "      <td>0.841640</td>\n",
       "    </tr>\n",
       "  </tbody>\n",
       "</table>\n",
       "</div>"
      ],
      "text/plain": [
       "param_gamma    0.001     0.010     0.100     1.000     10.000\n",
       "param_C                                                      \n",
       "0.01         0.705925  0.705925  0.705925  0.705925  0.705925\n",
       "0.10         0.705925  0.705925  0.705925  0.705925  0.705925\n",
       "1.00         0.705925  0.705925  0.715097  0.796347  0.832630\n",
       "10.00        0.705925  0.706006  0.764854  0.818994  0.846185\n",
       "50.00        0.705925  0.710552  0.805438  0.837094  0.841640\n",
       "100.00       0.701461  0.724107  0.814529  0.841640  0.841640\n",
       "200.00       0.706006  0.733036  0.809903  0.837094  0.841640"
      ]
     },
     "execution_count": 12,
     "metadata": {},
     "output_type": "execute_result"
    }
   ],
   "source": [
    "result_pvt"
   ]
  },
  {
   "cell_type": "code",
   "execution_count": 13,
   "id": "25606c1f",
   "metadata": {},
   "outputs": [
    {
     "name": "stderr",
     "output_type": "stream",
     "text": [
      "[codecarbon INFO @ 20:47:24] [setup] RAM Tracking...\n",
      "[codecarbon INFO @ 20:47:24] [setup] GPU Tracking...\n",
      "[codecarbon INFO @ 20:47:24] No GPU found.\n",
      "[codecarbon INFO @ 20:47:24] [setup] CPU Tracking...\n",
      "[codecarbon WARNING @ 20:47:24] No CPU tracking mode found. Falling back on CPU constant mode.\n",
      "[codecarbon WARNING @ 20:47:26] We saw that you have a Intel(R) Xeon(R) CPU E5-2630 v3 @ 2.40GHz but we don't know it. Please contact us.\n",
      "[codecarbon INFO @ 20:47:26] CPU Model on constant consumption mode: Intel(R) Xeon(R) CPU E5-2630 v3 @ 2.40GHz\n",
      "[codecarbon INFO @ 20:47:26] >>> Tracker's metadata:\n",
      "[codecarbon INFO @ 20:47:26]   Platform system: Linux-5.4.0-122-generic-x86_64-with-glibc2.29\n",
      "[codecarbon INFO @ 20:47:26]   Python version: 3.8.10\n",
      "[codecarbon INFO @ 20:47:26]   Available RAM : 31.360 GB\n",
      "[codecarbon INFO @ 20:47:26]   CPU count: 8\n",
      "[codecarbon INFO @ 20:47:26]   CPU model: Intel(R) Xeon(R) CPU E5-2630 v3 @ 2.40GHz\n",
      "[codecarbon INFO @ 20:47:26]   GPU count: None\n",
      "[codecarbon INFO @ 20:47:26]   GPU model: None\n",
      "[codecarbon INFO @ 20:47:29] Energy consumed for RAM : 0.000000 kWh. RAM Power : 11.759862899780273 W\n",
      "[codecarbon INFO @ 20:47:29] Energy consumed for all CPUs : 0.000000 kWh. All CPUs Power : 42.5 W\n",
      "[codecarbon INFO @ 20:47:29] 0.000000 kWh of electricity used since the begining.\n"
     ]
    },
    {
     "name": "stdout",
     "output_type": "stream",
     "text": [
      "RESULTAT SVM :\n",
      "- Accuracy: 87.5\n",
      "- Emissions C02: 7.906034030337296e-08\n",
      "- Temps: 0.025455191731452942\n"
     ]
    }
   ],
   "source": [
    "# Apliquem l'hiperparàmetre amb major precisió i entrenem\n",
    "classifier = svm.SVC(kernel=\"rbf\", C=10, gamma=10, probability=True)\n",
    "\n",
    "# Codecarbon + timeit\n",
    "\n",
    "tracker = EmissionsTracker()\n",
    "\n",
    "tracker.start()\n",
    "starttime = timeit.default_timer()\n",
    "\n",
    "classifier.fit(X_train, y_train)\n",
    "\n",
    "time = timeit.default_timer() - starttime\n",
    "\n",
    "emissions: float = tracker.stop()\n",
    "\n",
    "# Apliquem predict sobre test\n",
    "y_pred = classifier.predict(X_test)\n",
    "\n",
    "# Pintem l'accuracy del model i la matriu de confusió\n",
    "print(\"RESULTAT SVM :\")\n",
    "print('- Accuracy: {}'.format(round(accuracy_score(y_test, y_pred)*100, 3)))\n",
    "print('- Emissions C02: {}'.format(emissions))\n",
    "print('- Temps: {}'.format(time))"
   ]
  },
  {
   "cell_type": "markdown",
   "id": "ae895f77",
   "metadata": {},
   "source": [
    "## Arbre de decisió"
   ]
  },
  {
   "cell_type": "markdown",
   "id": "abce31f1",
   "metadata": {},
   "source": [
    "El tercer algoritme serà un arbre de decisió. En aquest cas els hiperparàmetres seran:\n",
    "- **max_depth:** profunditat màxima de l'arbre. Utilitzarem els valors entre 4 i 10\n",
    "- **min_samples_split:** mínim nombre d'observacions que ha de tenir una fulla de l'arbre per dividir-se. Observarem 2, 10, 20, 50 i 100."
   ]
  },
  {
   "cell_type": "code",
   "execution_count": 14,
   "id": "59991ca4",
   "metadata": {},
   "outputs": [],
   "source": [
    "# Establim els paràmetres\n",
    "max_depth_param         = list(range(4,11))\n",
    "min_samples_split_param = [2, 10, 20, 50, 100]\n",
    "hiperParam = dict(max_depth = max_depth_param, min_samples_split = min_samples_split_param)"
   ]
  },
  {
   "cell_type": "code",
   "execution_count": 15,
   "id": "606b8a1d",
   "metadata": {},
   "outputs": [
    {
     "name": "stderr",
     "output_type": "stream",
     "text": [
      "/usr/local/lib/python3.8/dist-packages/sklearn/model_selection/_split.py:666: UserWarning: The least populated class in y has only 1 members, which is less than n_splits=4.\n",
      "  warnings.warn((\"The least populated class in y has only %d\"\n"
     ]
    },
    {
     "data": {
      "image/png": "[encoded data removed]",
      "text/plain": [
       "<Figure size 432x288 with 2 Axes>"
      ]
     },
     "metadata": {
      "needs_background": "light"
     },
     "output_type": "display_data"
    }
   ],
   "source": [
    "# Generem el model\n",
    "tree = DecisionTreeClassifier(random_state = 100)\n",
    "\n",
    "# Apliquem GridSearchCV\n",
    "grid = GridSearchCV(tree, \n",
    "                    param_grid=hiperParam, \n",
    "                    cv=4, \n",
    "                    scoring='accuracy')\n",
    "\n",
    "grid.fit(X_train, y_train)\n",
    "grid.cv_results_\n",
    "\n",
    "# Resultat\n",
    "result_pvt = pd.pivot_table(pd.DataFrame(grid.cv_results_),\n",
    "         values='mean_test_score', index='param_max_depth', columns='param_min_samples_split')\n",
    "\n",
    "ax = plt.axes()\n",
    "sns.heatmap(result_pvt, ax = ax )\n",
    "ax.text(6.1,4,'accuracy', rotation = 270)\n",
    "ax.set_title('TREE')\n",
    "plt.show()"
   ]
  },
  {
   "cell_type": "code",
   "execution_count": 16,
   "id": "cb008b20",
   "metadata": {},
   "outputs": [
    {
     "data": {
      "text/html": [
       "<div>\n",
       "<style scoped>\n",
       "    .dataframe tbody tr th:only-of-type {\n",
       "        vertical-align: middle;\n",
       "    }\n",
       "\n",
       "    .dataframe tbody tr th {\n",
       "        vertical-align: top;\n",
       "    }\n",
       "\n",
       "    .dataframe thead th {\n",
       "        text-align: right;\n",
       "    }\n",
       "</style>\n",
       "<table border=\"1\" class=\"dataframe\">\n",
       "  <thead>\n",
       "    <tr style=\"text-align: right;\">\n",
       "      <th>param_min_samples_split</th>\n",
       "      <th>2</th>\n",
       "      <th>10</th>\n",
       "      <th>20</th>\n",
       "      <th>50</th>\n",
       "      <th>100</th>\n",
       "    </tr>\n",
       "    <tr>\n",
       "      <th>param_max_depth</th>\n",
       "      <th></th>\n",
       "      <th></th>\n",
       "      <th></th>\n",
       "      <th></th>\n",
       "      <th></th>\n",
       "    </tr>\n",
       "  </thead>\n",
       "  <tbody>\n",
       "    <tr>\n",
       "      <th>4</th>\n",
       "      <td>0.741964</td>\n",
       "      <td>0.728490</td>\n",
       "      <td>0.737581</td>\n",
       "      <td>0.737581</td>\n",
       "      <td>0.69237</td>\n",
       "    </tr>\n",
       "    <tr>\n",
       "      <th>5</th>\n",
       "      <td>0.710146</td>\n",
       "      <td>0.714773</td>\n",
       "      <td>0.742045</td>\n",
       "      <td>0.742045</td>\n",
       "      <td>0.69237</td>\n",
       "    </tr>\n",
       "    <tr>\n",
       "      <th>6</th>\n",
       "      <td>0.692208</td>\n",
       "      <td>0.678653</td>\n",
       "      <td>0.724026</td>\n",
       "      <td>0.737500</td>\n",
       "      <td>0.69237</td>\n",
       "    </tr>\n",
       "    <tr>\n",
       "      <th>7</th>\n",
       "      <td>0.732792</td>\n",
       "      <td>0.701136</td>\n",
       "      <td>0.724026</td>\n",
       "      <td>0.737500</td>\n",
       "      <td>0.69237</td>\n",
       "    </tr>\n",
       "    <tr>\n",
       "      <th>8</th>\n",
       "      <td>0.705682</td>\n",
       "      <td>0.696591</td>\n",
       "      <td>0.719481</td>\n",
       "      <td>0.737500</td>\n",
       "      <td>0.69237</td>\n",
       "    </tr>\n",
       "    <tr>\n",
       "      <th>9</th>\n",
       "      <td>0.701218</td>\n",
       "      <td>0.687500</td>\n",
       "      <td>0.719481</td>\n",
       "      <td>0.737500</td>\n",
       "      <td>0.69237</td>\n",
       "    </tr>\n",
       "    <tr>\n",
       "      <th>10</th>\n",
       "      <td>0.696834</td>\n",
       "      <td>0.687500</td>\n",
       "      <td>0.719481</td>\n",
       "      <td>0.737500</td>\n",
       "      <td>0.69237</td>\n",
       "    </tr>\n",
       "  </tbody>\n",
       "</table>\n",
       "</div>"
      ],
      "text/plain": [
       "param_min_samples_split       2         10        20        50       100\n",
       "param_max_depth                                                         \n",
       "4                        0.741964  0.728490  0.737581  0.737581  0.69237\n",
       "5                        0.710146  0.714773  0.742045  0.742045  0.69237\n",
       "6                        0.692208  0.678653  0.724026  0.737500  0.69237\n",
       "7                        0.732792  0.701136  0.724026  0.737500  0.69237\n",
       "8                        0.705682  0.696591  0.719481  0.737500  0.69237\n",
       "9                        0.701218  0.687500  0.719481  0.737500  0.69237\n",
       "10                       0.696834  0.687500  0.719481  0.737500  0.69237"
      ]
     },
     "execution_count": 16,
     "metadata": {},
     "output_type": "execute_result"
    }
   ],
   "source": [
    "result_pvt"
   ]
  },
  {
   "cell_type": "markdown",
   "id": "4c5c9218",
   "metadata": {},
   "source": [
    "S'observa que els millors resultats s'han obtingut amb una profunditat (\"max_depth\") de 5 i un \"min_samples_split\" de 20 i 50"
   ]
  },
  {
   "cell_type": "code",
   "execution_count": 17,
   "id": "2111a0d0",
   "metadata": {},
   "outputs": [
    {
     "name": "stderr",
     "output_type": "stream",
     "text": [
      "[codecarbon INFO @ 20:47:30] [setup] RAM Tracking...\n",
      "[codecarbon INFO @ 20:47:30] [setup] GPU Tracking...\n",
      "[codecarbon INFO @ 20:47:30] No GPU found.\n",
      "[codecarbon INFO @ 20:47:30] [setup] CPU Tracking...\n",
      "[codecarbon WARNING @ 20:47:30] No CPU tracking mode found. Falling back on CPU constant mode.\n",
      "[codecarbon WARNING @ 20:47:32] We saw that you have a Intel(R) Xeon(R) CPU E5-2630 v3 @ 2.40GHz but we don't know it. Please contact us.\n",
      "[codecarbon INFO @ 20:47:32] CPU Model on constant consumption mode: Intel(R) Xeon(R) CPU E5-2630 v3 @ 2.40GHz\n",
      "[codecarbon INFO @ 20:47:32] >>> Tracker's metadata:\n",
      "[codecarbon INFO @ 20:47:32]   Platform system: Linux-5.4.0-122-generic-x86_64-with-glibc2.29\n",
      "[codecarbon INFO @ 20:47:32]   Python version: 3.8.10\n",
      "[codecarbon INFO @ 20:47:32]   Available RAM : 31.360 GB\n",
      "[codecarbon INFO @ 20:47:32]   CPU count: 8\n",
      "[codecarbon INFO @ 20:47:32]   CPU model: Intel(R) Xeon(R) CPU E5-2630 v3 @ 2.40GHz\n",
      "[codecarbon INFO @ 20:47:32]   GPU count: None\n",
      "[codecarbon INFO @ 20:47:32]   GPU model: None\n",
      "[codecarbon INFO @ 20:47:33] Energy consumed for RAM : 0.000000 kWh. RAM Power : 11.759862899780273 W\n",
      "[codecarbon INFO @ 20:47:33] Energy consumed for all CPUs : 0.000000 kWh. All CPUs Power : 42.5 W\n",
      "[codecarbon INFO @ 20:47:33] 0.000000 kWh of electricity used since the begining.\n"
     ]
    },
    {
     "name": "stdout",
     "output_type": "stream",
     "text": [
      "RESULTAT TREE :\n",
      "- Accuracy: 73.214\n",
      "- Emissions C02: 2.2012385256725038e-08\n",
      "- Temps: 0.0056385500356554985\n"
     ]
    }
   ],
   "source": [
    "# Apliquem l'hiperparàmetre amb major precisió i entrenem\n",
    "tree = DecisionTreeClassifier(max_depth = 5, min_samples_split = 20, random_state = 100)\n",
    "\n",
    "# Codecarbon + timeit\n",
    "\n",
    "tracker = EmissionsTracker()\n",
    "\n",
    "tracker.start()\n",
    "starttime = timeit.default_timer()\n",
    "\n",
    "tree.fit(X_train, y_train)\n",
    "\n",
    "time = timeit.default_timer() - starttime\n",
    "\n",
    "emissions: float = tracker.stop()\n",
    "\n",
    "# Apliquem predict sobre test\n",
    "y_pred = tree.predict(X_test)\n",
    "\n",
    "# Pintem l'accuracy del model i la matriu de confusió\n",
    "print(\"RESULTAT TREE :\")\n",
    "print('- Accuracy: {}'.format(round(accuracy_score(y_test, y_pred)*100, 3)))\n",
    "print('- Emissions C02: {}'.format(emissions))\n",
    "print('- Temps: {}'.format(time))"
   ]
  },
  {
   "cell_type": "markdown",
   "id": "5e43aede",
   "metadata": {},
   "source": [
    "## Random Forest"
   ]
  },
  {
   "cell_type": "markdown",
   "id": "d12ef969",
   "metadata": {},
   "source": [
    "Aplicarem un algoritme Random Forest. Els paràmetres que utilitzarem seran:\n",
    "- **max_depth**: la profunditat màxima de l'arbre. Explorarem els valors entre 4 i 13.\n",
    "- **n_estimators**: nombre d'arbres. Explorarem els valors 10, 20, 50, 100 i 200 "
   ]
  },
  {
   "cell_type": "code",
   "execution_count": 18,
   "id": "6fda77f4",
   "metadata": {},
   "outputs": [],
   "source": [
    "# Establim els paràmetres\n",
    "max_depth_param    = list(range(4,13))\n",
    "n_estimators_param = [10, 20, 50, 100, 200]\n",
    "hiperParam = dict(max_depth = max_depth_param, n_estimators = n_estimators_param)"
   ]
  },
  {
   "cell_type": "code",
   "execution_count": 19,
   "id": "a9399826",
   "metadata": {},
   "outputs": [
    {
     "name": "stderr",
     "output_type": "stream",
     "text": [
      "/usr/local/lib/python3.8/dist-packages/sklearn/model_selection/_split.py:666: UserWarning: The least populated class in y has only 1 members, which is less than n_splits=4.\n",
      "  warnings.warn((\"The least populated class in y has only %d\"\n"
     ]
    },
    {
     "data": {
      "image/png": "[encoded data removed]",
      "text/plain": [
       "<Figure size 432x288 with 2 Axes>"
      ]
     },
     "metadata": {
      "needs_background": "light"
     },
     "output_type": "display_data"
    }
   ],
   "source": [
    "# Generem el model que volem\n",
    "classif= RandomForestClassifier(random_state = 100)\n",
    "\n",
    "# Apliquem GridSearchCV\n",
    "grid = GridSearchCV(classif, \n",
    "                    param_grid=hiperParam, \n",
    "                    cv=4, \n",
    "                    scoring='accuracy')\n",
    "\n",
    "grid.fit(X_train, y_train)\n",
    "grid.cv_results_\n",
    "\n",
    "\n",
    "# Aquest és el resultat obtingut\n",
    "result_pvt = pd.pivot_table(pd.DataFrame(grid.cv_results_),\n",
    "         values='mean_test_score', index='param_max_depth', columns='param_n_estimators')\n",
    "\n",
    "\n",
    "ax = plt.axes()\n",
    "ax.text(6.1,5.2,'accuracy', rotation = 270)\n",
    "sns.heatmap(result_pvt, ax = ax )\n",
    "ax.set_title('Random Forest')\n",
    "plt.show()"
   ]
  },
  {
   "cell_type": "code",
   "execution_count": 20,
   "id": "4877315d",
   "metadata": {},
   "outputs": [
    {
     "data": {
      "text/html": [
       "<div>\n",
       "<style scoped>\n",
       "    .dataframe tbody tr th:only-of-type {\n",
       "        vertical-align: middle;\n",
       "    }\n",
       "\n",
       "    .dataframe tbody tr th {\n",
       "        vertical-align: top;\n",
       "    }\n",
       "\n",
       "    .dataframe thead th {\n",
       "        text-align: right;\n",
       "    }\n",
       "</style>\n",
       "<table border=\"1\" class=\"dataframe\">\n",
       "  <thead>\n",
       "    <tr style=\"text-align: right;\">\n",
       "      <th>param_n_estimators</th>\n",
       "      <th>10</th>\n",
       "      <th>20</th>\n",
       "      <th>50</th>\n",
       "      <th>100</th>\n",
       "      <th>200</th>\n",
       "    </tr>\n",
       "    <tr>\n",
       "      <th>param_max_depth</th>\n",
       "      <th></th>\n",
       "      <th></th>\n",
       "      <th></th>\n",
       "      <th></th>\n",
       "      <th></th>\n",
       "    </tr>\n",
       "  </thead>\n",
       "  <tbody>\n",
       "    <tr>\n",
       "      <th>4</th>\n",
       "      <td>0.764610</td>\n",
       "      <td>0.746510</td>\n",
       "      <td>0.723945</td>\n",
       "      <td>0.737500</td>\n",
       "      <td>0.737500</td>\n",
       "    </tr>\n",
       "    <tr>\n",
       "      <th>5</th>\n",
       "      <td>0.773945</td>\n",
       "      <td>0.778247</td>\n",
       "      <td>0.760065</td>\n",
       "      <td>0.760065</td>\n",
       "      <td>0.755438</td>\n",
       "    </tr>\n",
       "    <tr>\n",
       "      <th>6</th>\n",
       "      <td>0.751136</td>\n",
       "      <td>0.755601</td>\n",
       "      <td>0.769156</td>\n",
       "      <td>0.773620</td>\n",
       "      <td>0.778166</td>\n",
       "    </tr>\n",
       "    <tr>\n",
       "      <th>7</th>\n",
       "      <td>0.787500</td>\n",
       "      <td>0.782792</td>\n",
       "      <td>0.778328</td>\n",
       "      <td>0.796510</td>\n",
       "      <td>0.791802</td>\n",
       "    </tr>\n",
       "    <tr>\n",
       "      <th>8</th>\n",
       "      <td>0.787338</td>\n",
       "      <td>0.796429</td>\n",
       "      <td>0.791802</td>\n",
       "      <td>0.805519</td>\n",
       "      <td>0.805438</td>\n",
       "    </tr>\n",
       "    <tr>\n",
       "      <th>9</th>\n",
       "      <td>0.796672</td>\n",
       "      <td>0.810065</td>\n",
       "      <td>0.805438</td>\n",
       "      <td>0.805519</td>\n",
       "      <td>0.814529</td>\n",
       "    </tr>\n",
       "    <tr>\n",
       "      <th>10</th>\n",
       "      <td>0.778409</td>\n",
       "      <td>0.787500</td>\n",
       "      <td>0.796347</td>\n",
       "      <td>0.800974</td>\n",
       "      <td>0.805519</td>\n",
       "    </tr>\n",
       "    <tr>\n",
       "      <th>11</th>\n",
       "      <td>0.792208</td>\n",
       "      <td>0.787500</td>\n",
       "      <td>0.805357</td>\n",
       "      <td>0.796429</td>\n",
       "      <td>0.805519</td>\n",
       "    </tr>\n",
       "    <tr>\n",
       "      <th>12</th>\n",
       "      <td>0.787662</td>\n",
       "      <td>0.792045</td>\n",
       "      <td>0.796591</td>\n",
       "      <td>0.796510</td>\n",
       "      <td>0.805519</td>\n",
       "    </tr>\n",
       "  </tbody>\n",
       "</table>\n",
       "</div>"
      ],
      "text/plain": [
       "param_n_estimators       10        20        50        100       200\n",
       "param_max_depth                                                     \n",
       "4                   0.764610  0.746510  0.723945  0.737500  0.737500\n",
       "5                   0.773945  0.778247  0.760065  0.760065  0.755438\n",
       "6                   0.751136  0.755601  0.769156  0.773620  0.778166\n",
       "7                   0.787500  0.782792  0.778328  0.796510  0.791802\n",
       "8                   0.787338  0.796429  0.791802  0.805519  0.805438\n",
       "9                   0.796672  0.810065  0.805438  0.805519  0.814529\n",
       "10                  0.778409  0.787500  0.796347  0.800974  0.805519\n",
       "11                  0.792208  0.787500  0.805357  0.796429  0.805519\n",
       "12                  0.787662  0.792045  0.796591  0.796510  0.805519"
      ]
     },
     "execution_count": 20,
     "metadata": {},
     "output_type": "execute_result"
    }
   ],
   "source": [
    "result_pvt"
   ]
  },
  {
   "cell_type": "markdown",
   "id": "831027fc",
   "metadata": {},
   "source": [
    "El millor resultats s'han obtingut amb un n_estimators = 200 i una profunditat de 9"
   ]
  },
  {
   "cell_type": "code",
   "execution_count": 21,
   "id": "5f7af819",
   "metadata": {},
   "outputs": [
    {
     "name": "stderr",
     "output_type": "stream",
     "text": [
      "[codecarbon INFO @ 20:47:53] [setup] RAM Tracking...\n",
      "[codecarbon INFO @ 20:47:53] [setup] GPU Tracking...\n",
      "[codecarbon INFO @ 20:47:53] No GPU found.\n",
      "[codecarbon INFO @ 20:47:53] [setup] CPU Tracking...\n",
      "[codecarbon WARNING @ 20:47:53] No CPU tracking mode found. Falling back on CPU constant mode.\n",
      "[codecarbon WARNING @ 20:47:55] We saw that you have a Intel(R) Xeon(R) CPU E5-2630 v3 @ 2.40GHz but we don't know it. Please contact us.\n",
      "[codecarbon INFO @ 20:47:55] CPU Model on constant consumption mode: Intel(R) Xeon(R) CPU E5-2630 v3 @ 2.40GHz\n",
      "[codecarbon INFO @ 20:47:55] >>> Tracker's metadata:\n",
      "[codecarbon INFO @ 20:47:55]   Platform system: Linux-5.4.0-122-generic-x86_64-with-glibc2.29\n",
      "[codecarbon INFO @ 20:47:55]   Python version: 3.8.10\n",
      "[codecarbon INFO @ 20:47:55]   Available RAM : 31.360 GB\n",
      "[codecarbon INFO @ 20:47:55]   CPU count: 8\n",
      "[codecarbon INFO @ 20:47:55]   CPU model: Intel(R) Xeon(R) CPU E5-2630 v3 @ 2.40GHz\n",
      "[codecarbon INFO @ 20:47:55]   GPU count: None\n",
      "[codecarbon INFO @ 20:47:55]   GPU model: None\n",
      "[codecarbon INFO @ 20:47:58] Energy consumed for RAM : 0.000001 kWh. RAM Power : 11.759862899780273 W\n",
      "[codecarbon INFO @ 20:47:58] Energy consumed for all CPUs : 0.000003 kWh. All CPUs Power : 42.5 W\n",
      "[codecarbon INFO @ 20:47:58] 0.000004 kWh of electricity used since the begining.\n"
     ]
    },
    {
     "name": "stdout",
     "output_type": "stream",
     "text": [
      "RESULTAT RANDOM FOREST :\n",
      "- Accuracy: 80.357\n",
      "- Emissions C02: 7.803263206515555e-07\n",
      "- Temps: 0.27083937637507915\n"
     ]
    }
   ],
   "source": [
    "# Apliquem l'hiperparàmetre amb major precisió i entrenem\n",
    "randomf = RandomForestClassifier(max_depth=9, n_estimators=200, random_state = 100)\n",
    "\n",
    "# Codecarbon + timeit\n",
    "\n",
    "tracker = EmissionsTracker()\n",
    "\n",
    "tracker.start()\n",
    "starttime = timeit.default_timer()\n",
    "\n",
    "randomf.fit(X_train, y_train)\n",
    "\n",
    "time = timeit.default_timer() - starttime\n",
    "\n",
    "emissions: float = tracker.stop()\n",
    "\n",
    "# Apliquem predict sobre test\n",
    "y_pred = randomf.predict(X_test)\n",
    "\n",
    "# Pintem l'accuracy del model i la matriu de confusió\n",
    "print(\"RESULTAT RANDOM FOREST :\")\n",
    "print('- Accuracy: {}'.format(round(accuracy_score(y_test, y_pred)*100, 3)))\n",
    "print('- Emissions C02: {}'.format(emissions))\n",
    "print('- Temps: {}'.format(time))"
   ]
  },
  {
   "cell_type": "markdown",
   "id": "fb503af8",
   "metadata": {},
   "source": [
    "## Gradient Boosting"
   ]
  },
  {
   "cell_type": "markdown",
   "id": "b226658c",
   "metadata": {},
   "source": [
    "Per últim, aplicarem un algoritme Gradient boosting. Els paràmetres que observarem són:\n",
    "- learning_rat: Velocitat d'aprenentatge. Explorarem els valors 0.01, 0.1, 1 i 2\n",
    "- n_estimators: Nombre d'arbres. 10, 50, 100 i 200"
   ]
  },
  {
   "cell_type": "code",
   "execution_count": 22,
   "id": "1144661b",
   "metadata": {},
   "outputs": [],
   "source": [
    "# Establim els paràmetres indicats a l'enunciat\n",
    "learning_rate_param = [0.01, 0.1, 1, 2]\n",
    "n_estimators_param  = [10, 50, 100, 200]\n",
    "hiperParam = dict(learning_rate = learning_rate_param, n_estimators = n_estimators_param)"
   ]
  },
  {
   "cell_type": "code",
   "execution_count": 23,
   "id": "ad1213a4",
   "metadata": {},
   "outputs": [
    {
     "name": "stderr",
     "output_type": "stream",
     "text": [
      "/usr/local/lib/python3.8/dist-packages/sklearn/model_selection/_split.py:666: UserWarning: The least populated class in y has only 1 members, which is less than n_splits=4.\n",
      "  warnings.warn((\"The least populated class in y has only %d\"\n"
     ]
    },
    {
     "data": {
      "image/png": "[encoded data removed]",
      "text/plain": [
       "<Figure size 432x288 with 2 Axes>"
      ]
     },
     "metadata": {
      "needs_background": "light"
     },
     "output_type": "display_data"
    }
   ],
   "source": [
    "# Generem el model\n",
    "boost = GradientBoostingClassifier(random_state = 100)\n",
    "\n",
    "# Apliquem GridSearchCV\n",
    "grid = GridSearchCV(boost, \n",
    "                    param_grid=hiperParam, \n",
    "                    cv=4, \n",
    "                    scoring='accuracy')\n",
    "\n",
    "grid.fit(X_train, y_train)\n",
    "grid.cv_results_\n",
    "\n",
    "\n",
    "# Aquest és el resultat obtingut\n",
    "result_pvt = pd.pivot_table(pd.DataFrame(grid.cv_results_),\n",
    "         values='mean_test_score', index='param_learning_rate', columns='param_n_estimators')\n",
    "\n",
    "\n",
    "ax = plt.axes()\n",
    "ax.text(4.9,2.6,'accuracy', rotation = 270)\n",
    "sns.heatmap(result_pvt, ax = ax )\n",
    "ax.set_title('Gradient Boosting')\n",
    "plt.show()"
   ]
  },
  {
   "cell_type": "code",
   "execution_count": 24,
   "id": "9fa23a12",
   "metadata": {},
   "outputs": [
    {
     "data": {
      "text/html": [
       "<div>\n",
       "<style scoped>\n",
       "    .dataframe tbody tr th:only-of-type {\n",
       "        vertical-align: middle;\n",
       "    }\n",
       "\n",
       "    .dataframe tbody tr th {\n",
       "        vertical-align: top;\n",
       "    }\n",
       "\n",
       "    .dataframe thead th {\n",
       "        text-align: right;\n",
       "    }\n",
       "</style>\n",
       "<table border=\"1\" class=\"dataframe\">\n",
       "  <thead>\n",
       "    <tr style=\"text-align: right;\">\n",
       "      <th>param_n_estimators</th>\n",
       "      <th>10</th>\n",
       "      <th>50</th>\n",
       "      <th>100</th>\n",
       "      <th>200</th>\n",
       "    </tr>\n",
       "    <tr>\n",
       "      <th>param_learning_rate</th>\n",
       "      <th></th>\n",
       "      <th></th>\n",
       "      <th></th>\n",
       "      <th></th>\n",
       "    </tr>\n",
       "  </thead>\n",
       "  <tbody>\n",
       "    <tr>\n",
       "      <th>0.01</th>\n",
       "      <td>0.705925</td>\n",
       "      <td>0.724107</td>\n",
       "      <td>0.760390</td>\n",
       "      <td>0.764692</td>\n",
       "    </tr>\n",
       "    <tr>\n",
       "      <th>0.10</th>\n",
       "      <td>0.760308</td>\n",
       "      <td>0.778247</td>\n",
       "      <td>0.787175</td>\n",
       "      <td>0.769075</td>\n",
       "    </tr>\n",
       "    <tr>\n",
       "      <th>1.00</th>\n",
       "      <td>0.751055</td>\n",
       "      <td>0.778409</td>\n",
       "      <td>0.769399</td>\n",
       "      <td>0.778328</td>\n",
       "    </tr>\n",
       "    <tr>\n",
       "      <th>2.00</th>\n",
       "      <td>0.496753</td>\n",
       "      <td>0.501218</td>\n",
       "      <td>0.501218</td>\n",
       "      <td>0.501218</td>\n",
       "    </tr>\n",
       "  </tbody>\n",
       "</table>\n",
       "</div>"
      ],
      "text/plain": [
       "param_n_estimators        10        50        100       200\n",
       "param_learning_rate                                        \n",
       "0.01                 0.705925  0.724107  0.760390  0.764692\n",
       "0.10                 0.760308  0.778247  0.787175  0.769075\n",
       "1.00                 0.751055  0.778409  0.769399  0.778328\n",
       "2.00                 0.496753  0.501218  0.501218  0.501218"
      ]
     },
     "execution_count": 24,
     "metadata": {},
     "output_type": "execute_result"
    }
   ],
   "source": [
    "result_pvt"
   ]
  },
  {
   "cell_type": "code",
   "execution_count": 25,
   "id": "602166df",
   "metadata": {},
   "outputs": [
    {
     "name": "stderr",
     "output_type": "stream",
     "text": [
      "[codecarbon INFO @ 20:48:11] [setup] RAM Tracking...\n",
      "[codecarbon INFO @ 20:48:11] [setup] GPU Tracking...\n",
      "[codecarbon INFO @ 20:48:11] No GPU found.\n",
      "[codecarbon INFO @ 20:48:11] [setup] CPU Tracking...\n",
      "[codecarbon WARNING @ 20:48:11] No CPU tracking mode found. Falling back on CPU constant mode.\n",
      "[codecarbon WARNING @ 20:48:12] We saw that you have a Intel(R) Xeon(R) CPU E5-2630 v3 @ 2.40GHz but we don't know it. Please contact us.\n",
      "[codecarbon INFO @ 20:48:12] CPU Model on constant consumption mode: Intel(R) Xeon(R) CPU E5-2630 v3 @ 2.40GHz\n",
      "[codecarbon INFO @ 20:48:12] >>> Tracker's metadata:\n",
      "[codecarbon INFO @ 20:48:12]   Platform system: Linux-5.4.0-122-generic-x86_64-with-glibc2.29\n",
      "[codecarbon INFO @ 20:48:12]   Python version: 3.8.10\n",
      "[codecarbon INFO @ 20:48:12]   Available RAM : 31.360 GB\n",
      "[codecarbon INFO @ 20:48:12]   CPU count: 8\n",
      "[codecarbon INFO @ 20:48:12]   CPU model: Intel(R) Xeon(R) CPU E5-2630 v3 @ 2.40GHz\n",
      "[codecarbon INFO @ 20:48:12]   GPU count: None\n",
      "[codecarbon INFO @ 20:48:12]   GPU model: None\n",
      "[codecarbon INFO @ 20:48:15] Energy consumed for RAM : 0.000001 kWh. RAM Power : 11.759862899780273 W\n",
      "[codecarbon INFO @ 20:48:15] Energy consumed for all CPUs : 0.000004 kWh. All CPUs Power : 42.5 W\n",
      "[codecarbon INFO @ 20:48:15] 0.000005 kWh of electricity used since the begining.\n"
     ]
    },
    {
     "name": "stdout",
     "output_type": "stream",
     "text": [
      "RESULTAT GRADIENT BOOSTING:\n",
      "- Accuracy: 80.357\n",
      "- Emissions C02: 8.998294095032786e-07\n",
      "- Temps: 0.31067110039293766\n"
     ]
    }
   ],
   "source": [
    "# Apliquem l'hiperparàmetre amb major precisió i entrenem\n",
    "boost = GradientBoostingClassifier(learning_rate=0.1, n_estimators=100, random_state = 100)\n",
    "\n",
    "# Codecarbon + timeit\n",
    "tracker = EmissionsTracker()\n",
    "\n",
    "tracker.start()\n",
    "starttime = timeit.default_timer()\n",
    "\n",
    "boost.fit(X_train, y_train)\n",
    "\n",
    "time = timeit.default_timer() - starttime\n",
    "\n",
    "emissions: float = tracker.stop()\n",
    "\n",
    "# Apliquem predict sobre test\n",
    "y_pred = boost.predict(X_test)\n",
    "\n",
    "# Pintem l'accuracy del model i la matriu de confusió\n",
    "print(\"RESULTAT GRADIENT BOOSTING:\")\n",
    "print('- Accuracy: {}'.format(round(accuracy_score(y_test, y_pred)*100, 3)))\n",
    "print('- Emissions C02: {}'.format(emissions))\n",
    "print('- Temps: {}'.format(time))"
   ]
  },
  {
   "cell_type": "markdown",
   "id": "d73a0d1d",
   "metadata": {},
   "source": [
    "## Conclusions\n",
    "\n",
    "- El model que ha obtingut un millor resultat ha sigut SVM amb els paràmetres C = 10 i gamma = 10\n",
    "\n",
    "Les variables més importants en aquest model han sigut:"
   ]
  },
  {
   "cell_type": "code",
   "execution_count": 26,
   "id": "8acf9e7a",
   "metadata": {},
   "outputs": [
    {
     "data": {
      "text/plain": [
       "Text(0.5, 0, 'Permutation Importance')"
      ]
     },
     "execution_count": 26,
     "metadata": {},
     "output_type": "execute_result"
    },
    {
     "data": {
      "image/png": "[encoded data removed]",
      "text/plain": [
       "<Figure size 432x288 with 1 Axes>"
      ]
     },
     "metadata": {
      "needs_background": "light"
     },
     "output_type": "display_data"
    }
   ],
   "source": [
    "perm_importance = permutation_importance(classifier, X_test, y_test)\n",
    "\n",
    "feature_names = X.columns\n",
    "features = np.array(feature_names)\n",
    "\n",
    "sorted_idx = perm_importance.importances_mean.argsort()\n",
    "\n",
    "weight_variab              = pd.DataFrame(\n",
    "                            {'variable': features[sorted_idx],\n",
    "                             'pes'     : perm_importance.importances_mean[sorted_idx]}\n",
    "                            )\n",
    "\n",
    "\n",
    "speed_z = {'variable':'SPEED_ZONE', 'pes' : sum(weight_variab[weight_variab['variable'].str.contains(\"SZ\")]['pes'])}\n",
    "\n",
    "weight_variab = weight_variab.append(speed_z, ignore_index=True)\n",
    "\n",
    "weight_variab = weight_variab[~(weight_variab['variable'].str.contains(\"SZ\"))]\n",
    "\n",
    "# Ordenem i pintem el resultat\n",
    "weight_variab = weight_variab.sort_values('pes', ascending=True)\n",
    "\n",
    "plt.barh(weight_variab['variable'], weight_variab['pes'])\n",
    "plt.xlabel(\"Permutation Importance\")"
   ]
  },
  {
   "cell_type": "code",
   "execution_count": 27,
   "id": "b8389ef6",
   "metadata": {},
   "outputs": [
    {
     "data": {
      "text/html": [
       "<div>\n",
       "<style scoped>\n",
       "    .dataframe tbody tr th:only-of-type {\n",
       "        vertical-align: middle;\n",
       "    }\n",
       "\n",
       "    .dataframe tbody tr th {\n",
       "        vertical-align: top;\n",
       "    }\n",
       "\n",
       "    .dataframe thead th {\n",
       "        text-align: right;\n",
       "    }\n",
       "</style>\n",
       "<table border=\"1\" class=\"dataframe\">\n",
       "  <thead>\n",
       "    <tr style=\"text-align: right;\">\n",
       "      <th></th>\n",
       "      <th>variable</th>\n",
       "      <th>pes</th>\n",
       "    </tr>\n",
       "  </thead>\n",
       "  <tbody>\n",
       "    <tr>\n",
       "      <th>13</th>\n",
       "      <td>SPEED_ZONE</td>\n",
       "      <td>0.282143</td>\n",
       "    </tr>\n",
       "    <tr>\n",
       "      <th>12</th>\n",
       "      <td>NO_PERSONS</td>\n",
       "      <td>0.146429</td>\n",
       "    </tr>\n",
       "    <tr>\n",
       "      <th>10</th>\n",
       "      <td>NO_OF_VEHICLES</td>\n",
       "      <td>0.103571</td>\n",
       "    </tr>\n",
       "    <tr>\n",
       "      <th>9</th>\n",
       "      <td>light_avg_scale</td>\n",
       "      <td>0.092857</td>\n",
       "    </tr>\n",
       "    <tr>\n",
       "      <th>5</th>\n",
       "      <td>ACCIDENT_TYPE</td>\n",
       "      <td>0.039286</td>\n",
       "    </tr>\n",
       "    <tr>\n",
       "      <th>4</th>\n",
       "      <td>SURFACE_COND</td>\n",
       "      <td>0.035714</td>\n",
       "    </tr>\n",
       "    <tr>\n",
       "      <th>3</th>\n",
       "      <td>temp_avg_scale</td>\n",
       "      <td>0.032143</td>\n",
       "    </tr>\n",
       "    <tr>\n",
       "      <th>2</th>\n",
       "      <td>humidity_avg_scale</td>\n",
       "      <td>0.032143</td>\n",
       "    </tr>\n",
       "  </tbody>\n",
       "</table>\n",
       "</div>"
      ],
      "text/plain": [
       "              variable       pes\n",
       "13          SPEED_ZONE  0.282143\n",
       "12          NO_PERSONS  0.146429\n",
       "10      NO_OF_VEHICLES  0.103571\n",
       "9      light_avg_scale  0.092857\n",
       "5        ACCIDENT_TYPE  0.039286\n",
       "4         SURFACE_COND  0.035714\n",
       "3       temp_avg_scale  0.032143\n",
       "2   humidity_avg_scale  0.032143"
      ]
     },
     "execution_count": 27,
     "metadata": {},
     "output_type": "execute_result"
    }
   ],
   "source": [
    "weight_variab.sort_values('pes', ascending=False)"
   ]
  },
  {
   "cell_type": "markdown",
   "id": "e5b1d5f1",
   "metadata": {},
   "source": [
    "## NEXT STEPS - REDUCCIÓ DE DIMENSIONALITAT"
   ]
  },
  {
   "cell_type": "code",
   "execution_count": 28,
   "id": "77d7e8af",
   "metadata": {},
   "outputs": [],
   "source": [
    "X = acc_meas[['SURFACE_COND', 'SZ_40','SZ_50','SZ_60','SZ_70','SZ_80','SZ_100', 'NO_OF_VEHICLES', 'NO_PERSONS', 'light_avg_scale']]\n",
    "y = acc_meas['SEVERITY']\n",
    "\n",
    "\n",
    "X_train, X_test, y_train, y_test = train_test_split(X, y, train_size=0.8, random_state=0)"
   ]
  },
  {
   "cell_type": "markdown",
   "id": "35928ddf",
   "metadata": {},
   "source": [
    "## K - NN"
   ]
  },
  {
   "cell_type": "code",
   "execution_count": 29,
   "id": "204cd0e4",
   "metadata": {},
   "outputs": [],
   "source": [
    "# Establim els paràmetres\n",
    "k     = list(range(1,11))\n",
    "pesos = ['uniform','distance']\n",
    "hiperParam = dict(n_neighbors=k, weights=pesos)"
   ]
  },
  {
   "cell_type": "code",
   "execution_count": 30,
   "id": "c6d716eb",
   "metadata": {},
   "outputs": [
    {
     "name": "stderr",
     "output_type": "stream",
     "text": [
      "/usr/local/lib/python3.8/dist-packages/sklearn/model_selection/_split.py:666: UserWarning: The least populated class in y has only 1 members, which is less than n_splits=4.\n",
      "  warnings.warn((\"The least populated class in y has only %d\"\n"
     ]
    },
    {
     "data": {
      "image/png": "[encoded data removed]",
      "text/plain": [
       "<Figure size 432x288 with 2 Axes>"
      ]
     },
     "metadata": {
      "needs_background": "light"
     },
     "output_type": "display_data"
    },
    {
     "data": {
      "text/html": [
       "<div>\n",
       "<style scoped>\n",
       "    .dataframe tbody tr th:only-of-type {\n",
       "        vertical-align: middle;\n",
       "    }\n",
       "\n",
       "    .dataframe tbody tr th {\n",
       "        vertical-align: top;\n",
       "    }\n",
       "\n",
       "    .dataframe thead th {\n",
       "        text-align: right;\n",
       "    }\n",
       "</style>\n",
       "<table border=\"1\" class=\"dataframe\">\n",
       "  <thead>\n",
       "    <tr style=\"text-align: right;\">\n",
       "      <th>param_n_neighbors</th>\n",
       "      <th>1</th>\n",
       "      <th>2</th>\n",
       "      <th>3</th>\n",
       "      <th>4</th>\n",
       "      <th>5</th>\n",
       "      <th>6</th>\n",
       "      <th>7</th>\n",
       "      <th>8</th>\n",
       "      <th>9</th>\n",
       "      <th>10</th>\n",
       "    </tr>\n",
       "    <tr>\n",
       "      <th>param_weights</th>\n",
       "      <th></th>\n",
       "      <th></th>\n",
       "      <th></th>\n",
       "      <th></th>\n",
       "      <th></th>\n",
       "      <th></th>\n",
       "      <th></th>\n",
       "      <th></th>\n",
       "      <th></th>\n",
       "      <th></th>\n",
       "    </tr>\n",
       "  </thead>\n",
       "  <tbody>\n",
       "    <tr>\n",
       "      <th>distance</th>\n",
       "      <td>0.755763</td>\n",
       "      <td>0.755763</td>\n",
       "      <td>0.764854</td>\n",
       "      <td>0.769399</td>\n",
       "      <td>0.778490</td>\n",
       "      <td>0.778490</td>\n",
       "      <td>0.801136</td>\n",
       "      <td>0.801136</td>\n",
       "      <td>0.801136</td>\n",
       "      <td>0.801136</td>\n",
       "    </tr>\n",
       "    <tr>\n",
       "      <th>uniform</th>\n",
       "      <td>0.755763</td>\n",
       "      <td>0.687987</td>\n",
       "      <td>0.706169</td>\n",
       "      <td>0.669805</td>\n",
       "      <td>0.723945</td>\n",
       "      <td>0.674107</td>\n",
       "      <td>0.723864</td>\n",
       "      <td>0.701299</td>\n",
       "      <td>0.701218</td>\n",
       "      <td>0.696834</td>\n",
       "    </tr>\n",
       "  </tbody>\n",
       "</table>\n",
       "</div>"
      ],
      "text/plain": [
       "param_n_neighbors        1         2         3         4         5         6   \\\n",
       "param_weights                                                                   \n",
       "distance           0.755763  0.755763  0.764854  0.769399  0.778490  0.778490   \n",
       "uniform            0.755763  0.687987  0.706169  0.669805  0.723945  0.674107   \n",
       "\n",
       "param_n_neighbors        7         8         9         10  \n",
       "param_weights                                              \n",
       "distance           0.801136  0.801136  0.801136  0.801136  \n",
       "uniform            0.723864  0.701299  0.701218  0.696834  "
      ]
     },
     "execution_count": 30,
     "metadata": {},
     "output_type": "execute_result"
    }
   ],
   "source": [
    "# Generem el model\n",
    "knn = KNeighborsClassifier(n_neighbors=10)\n",
    "\n",
    "# Apliquem GridSearchCV\n",
    "grid = GridSearchCV(knn, \n",
    "                    param_grid=hiperParam, \n",
    "                    cv=4, \n",
    "                    scoring='accuracy')\n",
    "\n",
    "# Entrenem\n",
    "grid.fit(X_train, y_train)\n",
    "\n",
    "# Resultat\n",
    "# Aquest és el resultat obtingut\n",
    "result_pvt = pd.pivot_table(pd.DataFrame(grid.cv_results_),\n",
    "         values='mean_test_score', index='param_weights', columns='param_n_neighbors')\n",
    "\n",
    "ax = plt.axes()\n",
    "ax.text(12.5,1.20,'accuracy', rotation = 270)\n",
    "sns.heatmap(result_pvt, ax = ax )     \n",
    "ax.set_title('K-NN')\n",
    "plt.show()\n",
    "result_pvt"
   ]
  },
  {
   "cell_type": "code",
   "execution_count": 31,
   "id": "94996b09",
   "metadata": {},
   "outputs": [
    {
     "name": "stderr",
     "output_type": "stream",
     "text": [
      "[codecarbon INFO @ 20:48:16] [setup] RAM Tracking...\n",
      "[codecarbon INFO @ 20:48:16] [setup] GPU Tracking...\n",
      "[codecarbon INFO @ 20:48:16] No GPU found.\n",
      "[codecarbon INFO @ 20:48:16] [setup] CPU Tracking...\n",
      "[codecarbon WARNING @ 20:48:16] No CPU tracking mode found. Falling back on CPU constant mode.\n",
      "[codecarbon WARNING @ 20:48:18] We saw that you have a Intel(R) Xeon(R) CPU E5-2630 v3 @ 2.40GHz but we don't know it. Please contact us.\n",
      "[codecarbon INFO @ 20:48:18] CPU Model on constant consumption mode: Intel(R) Xeon(R) CPU E5-2630 v3 @ 2.40GHz\n",
      "[codecarbon INFO @ 20:48:18] >>> Tracker's metadata:\n",
      "[codecarbon INFO @ 20:48:18]   Platform system: Linux-5.4.0-122-generic-x86_64-with-glibc2.29\n",
      "[codecarbon INFO @ 20:48:18]   Python version: 3.8.10\n",
      "[codecarbon INFO @ 20:48:18]   Available RAM : 31.360 GB\n",
      "[codecarbon INFO @ 20:48:18]   CPU count: 8\n",
      "[codecarbon INFO @ 20:48:18]   CPU model: Intel(R) Xeon(R) CPU E5-2630 v3 @ 2.40GHz\n",
      "[codecarbon INFO @ 20:48:18]   GPU count: None\n",
      "[codecarbon INFO @ 20:48:18]   GPU model: None\n",
      "[codecarbon INFO @ 20:48:21] Energy consumed for RAM : 0.000000 kWh. RAM Power : 11.759862899780273 W\n",
      "[codecarbon INFO @ 20:48:21] Energy consumed for all CPUs : 0.000000 kWh. All CPUs Power : 42.5 W\n",
      "[codecarbon INFO @ 20:48:21] 0.000000 kWh of electricity used since the begining.\n"
     ]
    },
    {
     "name": "stdout",
     "output_type": "stream",
     "text": [
      "RESULTAT K-NN :\n",
      "- Accuracy: 83.929\n",
      "- Emissions C02: 1.5319803807497262e-08\n",
      "- Temps: 0.0034732241183519363\n"
     ]
    }
   ],
   "source": [
    "# n_neighbors=10\n",
    "# weights='distance'\n",
    "# Apliquem l'hiperparàmetre amb major precisió i entrenem\n",
    "knn = KNeighborsClassifier(n_neighbors=10, weights='distance')\n",
    "\n",
    "# Codecarbon + timeit\n",
    "\n",
    "tracker = EmissionsTracker()\n",
    "\n",
    "tracker.start()\n",
    "starttime = timeit.default_timer()\n",
    "\n",
    "knn.fit(X_train, y_train)\n",
    "\n",
    "time = timeit.default_timer() - starttime\n",
    "\n",
    "emissions: float = tracker.stop()\n",
    "\n",
    "# Apliquem predict sobre test\n",
    "y_pred = knn.predict(X_test)\n",
    "\n",
    "# Pintem l'accuracy del model i la matriu de confusió\n",
    "print(\"RESULTAT K-NN :\")\n",
    "print('- Accuracy: {}'.format(round(accuracy_score(y_test, y_pred)*100, 3)))\n",
    "print('- Emissions C02: {}'.format(emissions))\n",
    "print('- Temps: {}'.format(time))"
   ]
  },
  {
   "cell_type": "markdown",
   "id": "df4868b9",
   "metadata": {},
   "source": [
    "## SVM"
   ]
  },
  {
   "cell_type": "code",
   "execution_count": 32,
   "id": "f5334b1f",
   "metadata": {},
   "outputs": [],
   "source": [
    "# Establim els paràmetres\n",
    "C_param     = [0.01, 0.1, 1, 10, 50, 100, 200]\n",
    "gamma_param = [0.001, 0.01, 0.1, 1, 10]\n",
    "hiperParam = dict(C=C_param, gamma=gamma_param)"
   ]
  },
  {
   "cell_type": "code",
   "execution_count": 33,
   "id": "bb513e0c",
   "metadata": {},
   "outputs": [
    {
     "name": "stderr",
     "output_type": "stream",
     "text": [
      "/usr/local/lib/python3.8/dist-packages/sklearn/model_selection/_split.py:666: UserWarning: The least populated class in y has only 1 members, which is less than n_splits=4.\n",
      "  warnings.warn((\"The least populated class in y has only %d\"\n"
     ]
    },
    {
     "data": {
      "image/png": "[encoded data removed]",
      "text/plain": [
       "<Figure size 432x288 with 2 Axes>"
      ]
     },
     "metadata": {
      "needs_background": "light"
     },
     "output_type": "display_data"
    },
    {
     "data": {
      "text/html": [
       "<div>\n",
       "<style scoped>\n",
       "    .dataframe tbody tr th:only-of-type {\n",
       "        vertical-align: middle;\n",
       "    }\n",
       "\n",
       "    .dataframe tbody tr th {\n",
       "        vertical-align: top;\n",
       "    }\n",
       "\n",
       "    .dataframe thead th {\n",
       "        text-align: right;\n",
       "    }\n",
       "</style>\n",
       "<table border=\"1\" class=\"dataframe\">\n",
       "  <thead>\n",
       "    <tr style=\"text-align: right;\">\n",
       "      <th>param_gamma</th>\n",
       "      <th>0.001</th>\n",
       "      <th>0.010</th>\n",
       "      <th>0.100</th>\n",
       "      <th>1.000</th>\n",
       "      <th>10.000</th>\n",
       "    </tr>\n",
       "    <tr>\n",
       "      <th>param_C</th>\n",
       "      <th></th>\n",
       "      <th></th>\n",
       "      <th></th>\n",
       "      <th></th>\n",
       "      <th></th>\n",
       "    </tr>\n",
       "  </thead>\n",
       "  <tbody>\n",
       "    <tr>\n",
       "      <th>0.01</th>\n",
       "      <td>0.705925</td>\n",
       "      <td>0.705925</td>\n",
       "      <td>0.705925</td>\n",
       "      <td>0.705925</td>\n",
       "      <td>0.705925</td>\n",
       "    </tr>\n",
       "    <tr>\n",
       "      <th>0.10</th>\n",
       "      <td>0.705925</td>\n",
       "      <td>0.705925</td>\n",
       "      <td>0.705925</td>\n",
       "      <td>0.705925</td>\n",
       "      <td>0.705925</td>\n",
       "    </tr>\n",
       "    <tr>\n",
       "      <th>1.00</th>\n",
       "      <td>0.705925</td>\n",
       "      <td>0.705925</td>\n",
       "      <td>0.701461</td>\n",
       "      <td>0.791721</td>\n",
       "      <td>0.796429</td>\n",
       "    </tr>\n",
       "    <tr>\n",
       "      <th>10.00</th>\n",
       "      <td>0.705925</td>\n",
       "      <td>0.696916</td>\n",
       "      <td>0.764773</td>\n",
       "      <td>0.791964</td>\n",
       "      <td>0.814529</td>\n",
       "    </tr>\n",
       "    <tr>\n",
       "      <th>50.00</th>\n",
       "      <td>0.705925</td>\n",
       "      <td>0.706006</td>\n",
       "      <td>0.791721</td>\n",
       "      <td>0.805519</td>\n",
       "      <td>0.809903</td>\n",
       "    </tr>\n",
       "    <tr>\n",
       "      <th>100.00</th>\n",
       "      <td>0.705925</td>\n",
       "      <td>0.710552</td>\n",
       "      <td>0.782630</td>\n",
       "      <td>0.814529</td>\n",
       "      <td>0.809903</td>\n",
       "    </tr>\n",
       "    <tr>\n",
       "      <th>200.00</th>\n",
       "      <td>0.701461</td>\n",
       "      <td>0.724107</td>\n",
       "      <td>0.787500</td>\n",
       "      <td>0.805438</td>\n",
       "      <td>0.800893</td>\n",
       "    </tr>\n",
       "  </tbody>\n",
       "</table>\n",
       "</div>"
      ],
      "text/plain": [
       "param_gamma    0.001     0.010     0.100     1.000     10.000\n",
       "param_C                                                      \n",
       "0.01         0.705925  0.705925  0.705925  0.705925  0.705925\n",
       "0.10         0.705925  0.705925  0.705925  0.705925  0.705925\n",
       "1.00         0.705925  0.705925  0.701461  0.791721  0.796429\n",
       "10.00        0.705925  0.696916  0.764773  0.791964  0.814529\n",
       "50.00        0.705925  0.706006  0.791721  0.805519  0.809903\n",
       "100.00       0.705925  0.710552  0.782630  0.814529  0.809903\n",
       "200.00       0.701461  0.724107  0.787500  0.805438  0.800893"
      ]
     },
     "execution_count": 33,
     "metadata": {},
     "output_type": "execute_result"
    }
   ],
   "source": [
    "# Generem el model\n",
    "classifier = svm.SVC(kernel=\"rbf\")\n",
    "\n",
    "# Apliquem GridSearchCV\n",
    "grid = GridSearchCV(classifier, \n",
    "                    param_grid=hiperParam, \n",
    "                    cv=4, \n",
    "                    scoring='accuracy')\n",
    "\n",
    "grid.fit(X_train, y_train)\n",
    "grid.cv_results_\n",
    "\n",
    "# Resultat\n",
    "result_pvt = pd.pivot_table(pd.DataFrame(grid.cv_results_),\n",
    "         values='mean_test_score', index='param_C', columns='param_gamma')\n",
    "\n",
    "ax = plt.axes()\n",
    "ax.text(6.1,3.,'accuracy', rotation = 270)\n",
    "sns.heatmap(result_pvt, ax = ax )\n",
    "ax.set_title('SVM')\n",
    "plt.show()\n",
    "result_pvt"
   ]
  },
  {
   "cell_type": "code",
   "execution_count": 34,
   "id": "79953009",
   "metadata": {},
   "outputs": [
    {
     "name": "stderr",
     "output_type": "stream",
     "text": [
      "[codecarbon INFO @ 20:48:23] [setup] RAM Tracking...\n",
      "[codecarbon INFO @ 20:48:23] [setup] GPU Tracking...\n",
      "[codecarbon INFO @ 20:48:23] No GPU found.\n",
      "[codecarbon INFO @ 20:48:23] [setup] CPU Tracking...\n",
      "[codecarbon WARNING @ 20:48:23] No CPU tracking mode found. Falling back on CPU constant mode.\n",
      "[codecarbon WARNING @ 20:48:24] We saw that you have a Intel(R) Xeon(R) CPU E5-2630 v3 @ 2.40GHz but we don't know it. Please contact us.\n",
      "[codecarbon INFO @ 20:48:24] CPU Model on constant consumption mode: Intel(R) Xeon(R) CPU E5-2630 v3 @ 2.40GHz\n",
      "[codecarbon INFO @ 20:48:24] >>> Tracker's metadata:\n",
      "[codecarbon INFO @ 20:48:24]   Platform system: Linux-5.4.0-122-generic-x86_64-with-glibc2.29\n",
      "[codecarbon INFO @ 20:48:24]   Python version: 3.8.10\n",
      "[codecarbon INFO @ 20:48:24]   Available RAM : 31.360 GB\n",
      "[codecarbon INFO @ 20:48:24]   CPU count: 8\n",
      "[codecarbon INFO @ 20:48:24]   CPU model: Intel(R) Xeon(R) CPU E5-2630 v3 @ 2.40GHz\n",
      "[codecarbon INFO @ 20:48:24]   GPU count: None\n",
      "[codecarbon INFO @ 20:48:24]   GPU model: None\n",
      "[codecarbon INFO @ 20:48:24] Energy consumed for RAM : 0.000000 kWh. RAM Power : 11.759862899780273 W\n",
      "[codecarbon INFO @ 20:48:24] Energy consumed for all CPUs : 0.000000 kWh. All CPUs Power : 42.5 W\n",
      "[codecarbon INFO @ 20:48:24] 0.000000 kWh of electricity used since the begining.\n"
     ]
    },
    {
     "name": "stdout",
     "output_type": "stream",
     "text": [
      "RESULTAT SVM :\n",
      "- Accuracy: 85.714\n",
      "- Emissions C02: 5.701919319502875e-08\n",
      "- Temps: 0.018500405363738537\n"
     ]
    }
   ],
   "source": [
    "#C = 10\n",
    "#GAMMA = 10\n",
    "\n",
    "# Apliquem l'hiperparàmetre amb major precisió i entrenem\n",
    "classifier = svm.SVC(kernel=\"rbf\", C=10, gamma=10, probability=True)\n",
    "\n",
    "# Codecarbon + timeit\n",
    "\n",
    "tracker = EmissionsTracker()\n",
    "\n",
    "tracker.start()\n",
    "starttime = timeit.default_timer()\n",
    "\n",
    "classifier.fit(X_train, y_train)\n",
    "\n",
    "time = timeit.default_timer() - starttime\n",
    "\n",
    "emissions: float = tracker.stop()\n",
    "\n",
    "# Apliquem predict sobre test\n",
    "y_pred = classifier.predict(X_test)\n",
    "\n",
    "# Pintem l'accuracy del model i la matriu de confusió\n",
    "print(\"RESULTAT SVM :\")\n",
    "print('- Accuracy: {}'.format(round(accuracy_score(y_test, y_pred)*100, 3)))\n",
    "print('- Emissions C02: {}'.format(emissions))\n",
    "print('- Temps: {}'.format(time))"
   ]
  },
  {
   "cell_type": "markdown",
   "id": "3a841c16",
   "metadata": {},
   "source": [
    "## Arbre de decisió"
   ]
  },
  {
   "cell_type": "code",
   "execution_count": 35,
   "id": "e7259d01",
   "metadata": {},
   "outputs": [],
   "source": [
    "# Establim els paràmetres\n",
    "max_depth_param         = list(range(4,11))\n",
    "min_samples_split_param = [2, 10, 20, 50, 100]\n",
    "hiperParam = dict(max_depth = max_depth_param, min_samples_split = min_samples_split_param)"
   ]
  },
  {
   "cell_type": "code",
   "execution_count": 36,
   "id": "ed572f44",
   "metadata": {},
   "outputs": [
    {
     "name": "stderr",
     "output_type": "stream",
     "text": [
      "/usr/local/lib/python3.8/dist-packages/sklearn/model_selection/_split.py:666: UserWarning: The least populated class in y has only 1 members, which is less than n_splits=4.\n",
      "  warnings.warn((\"The least populated class in y has only %d\"\n"
     ]
    },
    {
     "data": {
      "image/png": "[encoded data removed]",
      "text/plain": [
       "<Figure size 432x288 with 2 Axes>"
      ]
     },
     "metadata": {
      "needs_background": "light"
     },
     "output_type": "display_data"
    },
    {
     "data": {
      "text/html": [
       "<div>\n",
       "<style scoped>\n",
       "    .dataframe tbody tr th:only-of-type {\n",
       "        vertical-align: middle;\n",
       "    }\n",
       "\n",
       "    .dataframe tbody tr th {\n",
       "        vertical-align: top;\n",
       "    }\n",
       "\n",
       "    .dataframe thead th {\n",
       "        text-align: right;\n",
       "    }\n",
       "</style>\n",
       "<table border=\"1\" class=\"dataframe\">\n",
       "  <thead>\n",
       "    <tr style=\"text-align: right;\">\n",
       "      <th>param_min_samples_split</th>\n",
       "      <th>2</th>\n",
       "      <th>10</th>\n",
       "      <th>20</th>\n",
       "      <th>50</th>\n",
       "      <th>100</th>\n",
       "    </tr>\n",
       "    <tr>\n",
       "      <th>param_max_depth</th>\n",
       "      <th></th>\n",
       "      <th></th>\n",
       "      <th></th>\n",
       "      <th></th>\n",
       "      <th></th>\n",
       "    </tr>\n",
       "  </thead>\n",
       "  <tbody>\n",
       "    <tr>\n",
       "      <th>4</th>\n",
       "      <td>0.742127</td>\n",
       "      <td>0.728490</td>\n",
       "      <td>0.697078</td>\n",
       "      <td>0.701705</td>\n",
       "      <td>0.719643</td>\n",
       "    </tr>\n",
       "    <tr>\n",
       "      <th>5</th>\n",
       "      <td>0.728490</td>\n",
       "      <td>0.710308</td>\n",
       "      <td>0.697078</td>\n",
       "      <td>0.701705</td>\n",
       "      <td>0.719643</td>\n",
       "    </tr>\n",
       "    <tr>\n",
       "      <th>6</th>\n",
       "      <td>0.742127</td>\n",
       "      <td>0.723945</td>\n",
       "      <td>0.706169</td>\n",
       "      <td>0.710795</td>\n",
       "      <td>0.728734</td>\n",
       "    </tr>\n",
       "    <tr>\n",
       "      <th>7</th>\n",
       "      <td>0.741964</td>\n",
       "      <td>0.714773</td>\n",
       "      <td>0.697078</td>\n",
       "      <td>0.701705</td>\n",
       "      <td>0.728734</td>\n",
       "    </tr>\n",
       "    <tr>\n",
       "      <th>8</th>\n",
       "      <td>0.755682</td>\n",
       "      <td>0.728409</td>\n",
       "      <td>0.697078</td>\n",
       "      <td>0.701705</td>\n",
       "      <td>0.728734</td>\n",
       "    </tr>\n",
       "    <tr>\n",
       "      <th>9</th>\n",
       "      <td>0.746591</td>\n",
       "      <td>0.705682</td>\n",
       "      <td>0.683442</td>\n",
       "      <td>0.706250</td>\n",
       "      <td>0.728734</td>\n",
       "    </tr>\n",
       "    <tr>\n",
       "      <th>10</th>\n",
       "      <td>0.737581</td>\n",
       "      <td>0.710227</td>\n",
       "      <td>0.683442</td>\n",
       "      <td>0.706250</td>\n",
       "      <td>0.728734</td>\n",
       "    </tr>\n",
       "  </tbody>\n",
       "</table>\n",
       "</div>"
      ],
      "text/plain": [
       "param_min_samples_split       2         10        20        50        100\n",
       "param_max_depth                                                          \n",
       "4                        0.742127  0.728490  0.697078  0.701705  0.719643\n",
       "5                        0.728490  0.710308  0.697078  0.701705  0.719643\n",
       "6                        0.742127  0.723945  0.706169  0.710795  0.728734\n",
       "7                        0.741964  0.714773  0.697078  0.701705  0.728734\n",
       "8                        0.755682  0.728409  0.697078  0.701705  0.728734\n",
       "9                        0.746591  0.705682  0.683442  0.706250  0.728734\n",
       "10                       0.737581  0.710227  0.683442  0.706250  0.728734"
      ]
     },
     "execution_count": 36,
     "metadata": {},
     "output_type": "execute_result"
    }
   ],
   "source": [
    "# Generem el model\n",
    "tree = DecisionTreeClassifier(random_state = 100)\n",
    "\n",
    "# Apliquem GridSearchCV\n",
    "grid = GridSearchCV(tree, \n",
    "                    param_grid=hiperParam, \n",
    "                    cv=4, \n",
    "                    scoring='accuracy')\n",
    "\n",
    "grid.fit(X_train, y_train)\n",
    "grid.cv_results_\n",
    "\n",
    "# Resultat\n",
    "result_pvt = pd.pivot_table(pd.DataFrame(grid.cv_results_),\n",
    "         values='mean_test_score', index='param_max_depth', columns='param_min_samples_split')\n",
    "\n",
    "ax = plt.axes()\n",
    "sns.heatmap(result_pvt, ax = ax )\n",
    "ax.text(6.1,4,'accuracy', rotation = 270)\n",
    "ax.set_title('TREE')\n",
    "plt.show()\n",
    "result_pvt"
   ]
  },
  {
   "cell_type": "code",
   "execution_count": 37,
   "id": "363a1816",
   "metadata": {},
   "outputs": [
    {
     "name": "stderr",
     "output_type": "stream",
     "text": [
      "[codecarbon INFO @ 20:48:26] [setup] RAM Tracking...\n",
      "[codecarbon INFO @ 20:48:26] [setup] GPU Tracking...\n",
      "[codecarbon INFO @ 20:48:26] No GPU found.\n",
      "[codecarbon INFO @ 20:48:26] [setup] CPU Tracking...\n",
      "[codecarbon WARNING @ 20:48:26] No CPU tracking mode found. Falling back on CPU constant mode.\n",
      "[codecarbon WARNING @ 20:48:27] We saw that you have a Intel(R) Xeon(R) CPU E5-2630 v3 @ 2.40GHz but we don't know it. Please contact us.\n",
      "[codecarbon INFO @ 20:48:27] CPU Model on constant consumption mode: Intel(R) Xeon(R) CPU E5-2630 v3 @ 2.40GHz\n",
      "[codecarbon INFO @ 20:48:27] >>> Tracker's metadata:\n",
      "[codecarbon INFO @ 20:48:27]   Platform system: Linux-5.4.0-122-generic-x86_64-with-glibc2.29\n",
      "[codecarbon INFO @ 20:48:27]   Python version: 3.8.10\n",
      "[codecarbon INFO @ 20:48:27]   Available RAM : 31.360 GB\n",
      "[codecarbon INFO @ 20:48:27]   CPU count: 8\n",
      "[codecarbon INFO @ 20:48:27]   CPU model: Intel(R) Xeon(R) CPU E5-2630 v3 @ 2.40GHz\n",
      "[codecarbon INFO @ 20:48:27]   GPU count: None\n",
      "[codecarbon INFO @ 20:48:27]   GPU model: None\n",
      "[codecarbon INFO @ 20:48:30] Energy consumed for RAM : 0.000000 kWh. RAM Power : 11.759862899780273 W\n",
      "[codecarbon INFO @ 20:48:30] Energy consumed for all CPUs : 0.000000 kWh. All CPUs Power : 42.5 W\n",
      "[codecarbon INFO @ 20:48:30] 0.000000 kWh of electricity used since the begining.\n"
     ]
    },
    {
     "name": "stdout",
     "output_type": "stream",
     "text": [
      "RESULTAT TREE :\n",
      "- Accuracy: 78.571\n",
      "- Emissions C02: 2.327349302897296e-08\n",
      "- Temps: 0.0058031268417835236\n"
     ]
    }
   ],
   "source": [
    "#max_depth = 8\n",
    "#min_samples_split = 2\n",
    "\n",
    "# Apliquem l'hiperparàmetre amb major precisió i entrenem\n",
    "tree = DecisionTreeClassifier(max_depth = 8, min_samples_split = 2, random_state = 100)\n",
    "\n",
    "# Codecarbon + timeit\n",
    "\n",
    "tracker = EmissionsTracker()\n",
    "\n",
    "tracker.start()\n",
    "starttime = timeit.default_timer()\n",
    "\n",
    "tree.fit(X_train, y_train)\n",
    "\n",
    "time = timeit.default_timer() - starttime\n",
    "\n",
    "emissions: float = tracker.stop()\n",
    "\n",
    "# Apliquem predict sobre test\n",
    "y_pred = tree.predict(X_test)\n",
    "\n",
    "# Pintem l'accuracy del model i la matriu de confusió\n",
    "print(\"RESULTAT TREE :\")\n",
    "print('- Accuracy: {}'.format(round(accuracy_score(y_test, y_pred)*100, 3)))\n",
    "print('- Emissions C02: {}'.format(emissions))\n",
    "print('- Temps: {}'.format(time))"
   ]
  },
  {
   "cell_type": "markdown",
   "id": "0c7198c6",
   "metadata": {},
   "source": [
    "## Random Forest"
   ]
  },
  {
   "cell_type": "code",
   "execution_count": 38,
   "id": "ac7a6da6",
   "metadata": {},
   "outputs": [],
   "source": [
    "# Establim els paràmetres\n",
    "max_depth_param    = list(range(4,13))\n",
    "n_estimators_param = [10, 20, 50, 100, 200]\n",
    "hiperParam = dict(max_depth = max_depth_param, n_estimators = n_estimators_param)"
   ]
  },
  {
   "cell_type": "code",
   "execution_count": 39,
   "id": "574e3847",
   "metadata": {},
   "outputs": [
    {
     "name": "stderr",
     "output_type": "stream",
     "text": [
      "/usr/local/lib/python3.8/dist-packages/sklearn/model_selection/_split.py:666: UserWarning: The least populated class in y has only 1 members, which is less than n_splits=4.\n",
      "  warnings.warn((\"The least populated class in y has only %d\"\n"
     ]
    },
    {
     "data": {
      "image/png": "[encoded data removed]",
      "text/plain": [
       "<Figure size 432x288 with 2 Axes>"
      ]
     },
     "metadata": {
      "needs_background": "light"
     },
     "output_type": "display_data"
    },
    {
     "data": {
      "text/html": [
       "<div>\n",
       "<style scoped>\n",
       "    .dataframe tbody tr th:only-of-type {\n",
       "        vertical-align: middle;\n",
       "    }\n",
       "\n",
       "    .dataframe tbody tr th {\n",
       "        vertical-align: top;\n",
       "    }\n",
       "\n",
       "    .dataframe thead th {\n",
       "        text-align: right;\n",
       "    }\n",
       "</style>\n",
       "<table border=\"1\" class=\"dataframe\">\n",
       "  <thead>\n",
       "    <tr style=\"text-align: right;\">\n",
       "      <th>param_n_estimators</th>\n",
       "      <th>10</th>\n",
       "      <th>20</th>\n",
       "      <th>50</th>\n",
       "      <th>100</th>\n",
       "      <th>200</th>\n",
       "    </tr>\n",
       "    <tr>\n",
       "      <th>param_max_depth</th>\n",
       "      <th></th>\n",
       "      <th></th>\n",
       "      <th></th>\n",
       "      <th></th>\n",
       "      <th></th>\n",
       "    </tr>\n",
       "  </thead>\n",
       "  <tbody>\n",
       "    <tr>\n",
       "      <th>4</th>\n",
       "      <td>0.714854</td>\n",
       "      <td>0.719399</td>\n",
       "      <td>0.719399</td>\n",
       "      <td>0.714854</td>\n",
       "      <td>0.723945</td>\n",
       "    </tr>\n",
       "    <tr>\n",
       "      <th>5</th>\n",
       "      <td>0.751055</td>\n",
       "      <td>0.755601</td>\n",
       "      <td>0.750974</td>\n",
       "      <td>0.750974</td>\n",
       "      <td>0.755519</td>\n",
       "    </tr>\n",
       "    <tr>\n",
       "      <th>6</th>\n",
       "      <td>0.778409</td>\n",
       "      <td>0.778328</td>\n",
       "      <td>0.787338</td>\n",
       "      <td>0.778247</td>\n",
       "      <td>0.778328</td>\n",
       "    </tr>\n",
       "    <tr>\n",
       "      <th>7</th>\n",
       "      <td>0.769481</td>\n",
       "      <td>0.760227</td>\n",
       "      <td>0.791964</td>\n",
       "      <td>0.782955</td>\n",
       "      <td>0.773864</td>\n",
       "    </tr>\n",
       "    <tr>\n",
       "      <th>8</th>\n",
       "      <td>0.755763</td>\n",
       "      <td>0.796510</td>\n",
       "      <td>0.800974</td>\n",
       "      <td>0.787419</td>\n",
       "      <td>0.792045</td>\n",
       "    </tr>\n",
       "    <tr>\n",
       "      <th>9</th>\n",
       "      <td>0.769481</td>\n",
       "      <td>0.796591</td>\n",
       "      <td>0.792045</td>\n",
       "      <td>0.805682</td>\n",
       "      <td>0.796591</td>\n",
       "    </tr>\n",
       "    <tr>\n",
       "      <th>10</th>\n",
       "      <td>0.746834</td>\n",
       "      <td>0.782955</td>\n",
       "      <td>0.787500</td>\n",
       "      <td>0.801136</td>\n",
       "      <td>0.792045</td>\n",
       "    </tr>\n",
       "    <tr>\n",
       "      <th>11</th>\n",
       "      <td>0.755844</td>\n",
       "      <td>0.782955</td>\n",
       "      <td>0.792045</td>\n",
       "      <td>0.792045</td>\n",
       "      <td>0.787500</td>\n",
       "    </tr>\n",
       "    <tr>\n",
       "      <th>12</th>\n",
       "      <td>0.764935</td>\n",
       "      <td>0.764773</td>\n",
       "      <td>0.782955</td>\n",
       "      <td>0.773864</td>\n",
       "      <td>0.792045</td>\n",
       "    </tr>\n",
       "  </tbody>\n",
       "</table>\n",
       "</div>"
      ],
      "text/plain": [
       "param_n_estimators       10        20        50        100       200\n",
       "param_max_depth                                                     \n",
       "4                   0.714854  0.719399  0.719399  0.714854  0.723945\n",
       "5                   0.751055  0.755601  0.750974  0.750974  0.755519\n",
       "6                   0.778409  0.778328  0.787338  0.778247  0.778328\n",
       "7                   0.769481  0.760227  0.791964  0.782955  0.773864\n",
       "8                   0.755763  0.796510  0.800974  0.787419  0.792045\n",
       "9                   0.769481  0.796591  0.792045  0.805682  0.796591\n",
       "10                  0.746834  0.782955  0.787500  0.801136  0.792045\n",
       "11                  0.755844  0.782955  0.792045  0.792045  0.787500\n",
       "12                  0.764935  0.764773  0.782955  0.773864  0.792045"
      ]
     },
     "execution_count": 39,
     "metadata": {},
     "output_type": "execute_result"
    }
   ],
   "source": [
    "# Generem el model que volem\n",
    "classif= RandomForestClassifier(random_state = 100)\n",
    "\n",
    "# Apliquem GridSearchCV\n",
    "grid = GridSearchCV(classif, \n",
    "                    param_grid=hiperParam, \n",
    "                    cv=4, \n",
    "                    scoring='accuracy')\n",
    "\n",
    "grid.fit(X_train, y_train)\n",
    "grid.cv_results_\n",
    "\n",
    "\n",
    "# Aquest és el resultat obtingut\n",
    "result_pvt = pd.pivot_table(pd.DataFrame(grid.cv_results_),\n",
    "         values='mean_test_score', index='param_max_depth', columns='param_n_estimators')\n",
    "\n",
    "\n",
    "ax = plt.axes()\n",
    "ax.text(6.1,5.2,'accuracy', rotation = 270)\n",
    "sns.heatmap(result_pvt, ax = ax )\n",
    "ax.set_title('Random Forest')\n",
    "plt.show()\n",
    "result_pvt"
   ]
  },
  {
   "cell_type": "code",
   "execution_count": 40,
   "id": "ba13bc43",
   "metadata": {},
   "outputs": [
    {
     "name": "stderr",
     "output_type": "stream",
     "text": [
      "[codecarbon INFO @ 20:48:50] [setup] RAM Tracking...\n",
      "[codecarbon INFO @ 20:48:50] [setup] GPU Tracking...\n",
      "[codecarbon INFO @ 20:48:50] No GPU found.\n",
      "[codecarbon INFO @ 20:48:50] [setup] CPU Tracking...\n",
      "[codecarbon WARNING @ 20:48:50] No CPU tracking mode found. Falling back on CPU constant mode.\n",
      "[codecarbon WARNING @ 20:48:52] We saw that you have a Intel(R) Xeon(R) CPU E5-2630 v3 @ 2.40GHz but we don't know it. Please contact us.\n",
      "[codecarbon INFO @ 20:48:52] CPU Model on constant consumption mode: Intel(R) Xeon(R) CPU E5-2630 v3 @ 2.40GHz\n",
      "[codecarbon INFO @ 20:48:52] >>> Tracker's metadata:\n",
      "[codecarbon INFO @ 20:48:52]   Platform system: Linux-5.4.0-122-generic-x86_64-with-glibc2.29\n",
      "[codecarbon INFO @ 20:48:52]   Python version: 3.8.10\n",
      "[codecarbon INFO @ 20:48:52]   Available RAM : 31.360 GB\n",
      "[codecarbon INFO @ 20:48:52]   CPU count: 8\n",
      "[codecarbon INFO @ 20:48:52]   CPU model: Intel(R) Xeon(R) CPU E5-2630 v3 @ 2.40GHz\n",
      "[codecarbon INFO @ 20:48:52]   GPU count: None\n",
      "[codecarbon INFO @ 20:48:52]   GPU model: None\n",
      "[codecarbon INFO @ 20:48:55] Energy consumed for RAM : 0.000000 kWh. RAM Power : 11.759862899780273 W\n",
      "[codecarbon INFO @ 20:48:55] Energy consumed for all CPUs : 0.000002 kWh. All CPUs Power : 42.5 W\n",
      "[codecarbon INFO @ 20:48:55] 0.000002 kWh of electricity used since the begining.\n"
     ]
    },
    {
     "name": "stdout",
     "output_type": "stream",
     "text": [
      "RESULTAT RANDOM FOREST :\n",
      "- Accuracy: 82.143\n",
      "- Emissions C02: 4.140422039874731e-07\n",
      "- Temps: 0.1428416408598423\n"
     ]
    }
   ],
   "source": [
    "#max_depth = 9\n",
    "#n_estimators = 100 \n",
    "#Apliquem l'hiperparàmetre amb major precisió i entrenem\n",
    "randomf = RandomForestClassifier(max_depth=9, n_estimators=100, random_state = 100)\n",
    "\n",
    "# Codecarbon + timeit\n",
    "\n",
    "tracker = EmissionsTracker()\n",
    "\n",
    "tracker.start()\n",
    "starttime = timeit.default_timer()\n",
    "\n",
    "randomf.fit(X_train, y_train)\n",
    "\n",
    "time = timeit.default_timer() - starttime\n",
    "\n",
    "emissions: float = tracker.stop()\n",
    "\n",
    "# Apliquem predict sobre test\n",
    "y_pred = randomf.predict(X_test)\n",
    "\n",
    "# Pintem l'accuracy del model i la matriu de confusió\n",
    "print(\"RESULTAT RANDOM FOREST :\")\n",
    "print('- Accuracy: {}'.format(round(accuracy_score(y_test, y_pred)*100, 3)))\n",
    "print('- Emissions C02: {}'.format(emissions))\n",
    "print('- Temps: {}'.format(time))"
   ]
  },
  {
   "cell_type": "markdown",
   "id": "e413715c",
   "metadata": {},
   "source": [
    "## Gradient Boosting"
   ]
  },
  {
   "cell_type": "code",
   "execution_count": 41,
   "id": "5d0ffaa4",
   "metadata": {},
   "outputs": [],
   "source": [
    "# Establim els paràmetres indicats a l'enunciat\n",
    "learning_rate_param = [0.01, 0.1, 1, 2]\n",
    "n_estimators_param  = [10, 50, 100, 200]\n",
    "hiperParam = dict(learning_rate = learning_rate_param, n_estimators = n_estimators_param)"
   ]
  },
  {
   "cell_type": "code",
   "execution_count": 42,
   "id": "76c82a0b",
   "metadata": {},
   "outputs": [
    {
     "name": "stderr",
     "output_type": "stream",
     "text": [
      "/usr/local/lib/python3.8/dist-packages/sklearn/model_selection/_split.py:666: UserWarning: The least populated class in y has only 1 members, which is less than n_splits=4.\n",
      "  warnings.warn((\"The least populated class in y has only %d\"\n"
     ]
    },
    {
     "data": {
      "image/png": "[encoded data removed]",
      "text/plain": [
       "<Figure size 432x288 with 2 Axes>"
      ]
     },
     "metadata": {
      "needs_background": "light"
     },
     "output_type": "display_data"
    },
    {
     "data": {
      "text/html": [
       "<div>\n",
       "<style scoped>\n",
       "    .dataframe tbody tr th:only-of-type {\n",
       "        vertical-align: middle;\n",
       "    }\n",
       "\n",
       "    .dataframe tbody tr th {\n",
       "        vertical-align: top;\n",
       "    }\n",
       "\n",
       "    .dataframe thead th {\n",
       "        text-align: right;\n",
       "    }\n",
       "</style>\n",
       "<table border=\"1\" class=\"dataframe\">\n",
       "  <thead>\n",
       "    <tr style=\"text-align: right;\">\n",
       "      <th>param_n_estimators</th>\n",
       "      <th>10</th>\n",
       "      <th>50</th>\n",
       "      <th>100</th>\n",
       "      <th>200</th>\n",
       "    </tr>\n",
       "    <tr>\n",
       "      <th>param_learning_rate</th>\n",
       "      <th></th>\n",
       "      <th></th>\n",
       "      <th></th>\n",
       "      <th></th>\n",
       "    </tr>\n",
       "  </thead>\n",
       "  <tbody>\n",
       "    <tr>\n",
       "      <th>0.01</th>\n",
       "      <td>0.705925</td>\n",
       "      <td>0.696916</td>\n",
       "      <td>0.724026</td>\n",
       "      <td>0.737662</td>\n",
       "    </tr>\n",
       "    <tr>\n",
       "      <th>0.10</th>\n",
       "      <td>0.710471</td>\n",
       "      <td>0.751299</td>\n",
       "      <td>0.751461</td>\n",
       "      <td>0.751299</td>\n",
       "    </tr>\n",
       "    <tr>\n",
       "      <th>1.00</th>\n",
       "      <td>0.715097</td>\n",
       "      <td>0.760471</td>\n",
       "      <td>0.746834</td>\n",
       "      <td>0.755844</td>\n",
       "    </tr>\n",
       "    <tr>\n",
       "      <th>2.00</th>\n",
       "      <td>0.547727</td>\n",
       "      <td>0.494156</td>\n",
       "      <td>0.494156</td>\n",
       "      <td>0.494156</td>\n",
       "    </tr>\n",
       "  </tbody>\n",
       "</table>\n",
       "</div>"
      ],
      "text/plain": [
       "param_n_estimators        10        50        100       200\n",
       "param_learning_rate                                        \n",
       "0.01                 0.705925  0.696916  0.724026  0.737662\n",
       "0.10                 0.710471  0.751299  0.751461  0.751299\n",
       "1.00                 0.715097  0.760471  0.746834  0.755844\n",
       "2.00                 0.547727  0.494156  0.494156  0.494156"
      ]
     },
     "execution_count": 42,
     "metadata": {},
     "output_type": "execute_result"
    }
   ],
   "source": [
    "# Generem el model\n",
    "boost = GradientBoostingClassifier(random_state = 100)\n",
    "\n",
    "# Apliquem GridSearchCV\n",
    "grid = GridSearchCV(boost, \n",
    "                    param_grid=hiperParam, \n",
    "                    cv=4, \n",
    "                    scoring='accuracy')\n",
    "\n",
    "grid.fit(X_train, y_train)\n",
    "grid.cv_results_\n",
    "\n",
    "\n",
    "# Aquest és el resultat obtingut\n",
    "result_pvt = pd.pivot_table(pd.DataFrame(grid.cv_results_),\n",
    "         values='mean_test_score', index='param_learning_rate', columns='param_n_estimators')\n",
    "\n",
    "\n",
    "ax = plt.axes()\n",
    "ax.text(4.9,2.6,'accuracy', rotation = 270)\n",
    "sns.heatmap(result_pvt, ax = ax )\n",
    "ax.set_title('Gradient Boosting')\n",
    "plt.show()\n",
    "result_pvt"
   ]
  },
  {
   "cell_type": "code",
   "execution_count": 43,
   "id": "1b59ed83",
   "metadata": {},
   "outputs": [
    {
     "name": "stderr",
     "output_type": "stream",
     "text": [
      "[codecarbon INFO @ 20:49:06] [setup] RAM Tracking...\n",
      "[codecarbon INFO @ 20:49:06] [setup] GPU Tracking...\n",
      "[codecarbon INFO @ 20:49:06] No GPU found.\n",
      "[codecarbon INFO @ 20:49:06] [setup] CPU Tracking...\n",
      "[codecarbon WARNING @ 20:49:06] No CPU tracking mode found. Falling back on CPU constant mode.\n",
      "[codecarbon WARNING @ 20:49:08] We saw that you have a Intel(R) Xeon(R) CPU E5-2630 v3 @ 2.40GHz but we don't know it. Please contact us.\n",
      "[codecarbon INFO @ 20:49:08] CPU Model on constant consumption mode: Intel(R) Xeon(R) CPU E5-2630 v3 @ 2.40GHz\n",
      "[codecarbon INFO @ 20:49:08] >>> Tracker's metadata:\n",
      "[codecarbon INFO @ 20:49:08]   Platform system: Linux-5.4.0-122-generic-x86_64-with-glibc2.29\n",
      "[codecarbon INFO @ 20:49:08]   Python version: 3.8.10\n",
      "[codecarbon INFO @ 20:49:08]   Available RAM : 31.360 GB\n",
      "[codecarbon INFO @ 20:49:08]   CPU count: 8\n",
      "[codecarbon INFO @ 20:49:08]   CPU model: Intel(R) Xeon(R) CPU E5-2630 v3 @ 2.40GHz\n",
      "[codecarbon INFO @ 20:49:08]   GPU count: None\n",
      "[codecarbon INFO @ 20:49:08]   GPU model: None\n",
      "[codecarbon INFO @ 20:49:11] Energy consumed for RAM : 0.000000 kWh. RAM Power : 11.759862899780273 W\n",
      "[codecarbon INFO @ 20:49:11] Energy consumed for all CPUs : 0.000002 kWh. All CPUs Power : 42.5 W\n",
      "[codecarbon INFO @ 20:49:11] 0.000002 kWh of electricity used since the begining.\n"
     ]
    },
    {
     "name": "stdout",
     "output_type": "stream",
     "text": [
      "RESULTAT GRADIENT BOOSTING:\n",
      "- Accuracy: 73.214\n",
      "- Emissions C02: 3.94213310033807e-07\n",
      "- Temps: 0.13611170928925276\n"
     ]
    }
   ],
   "source": [
    "#learning_rate 1\n",
    "#n_estimators 50\n",
    "# Apliquem l'hiperparàmetre amb major precisió i entrenem\n",
    "boost = GradientBoostingClassifier(learning_rate=0.1, n_estimators=50, random_state = 100)\n",
    "\n",
    "# Codecarbon + timeit\n",
    "tracker = EmissionsTracker()\n",
    "\n",
    "tracker.start()\n",
    "starttime = timeit.default_timer()\n",
    "\n",
    "boost.fit(X_train, y_train)\n",
    "\n",
    "time = timeit.default_timer() - starttime\n",
    "\n",
    "emissions: float = tracker.stop()\n",
    "\n",
    "# Apliquem predict sobre test\n",
    "y_pred = boost.predict(X_test)\n",
    "\n",
    "# Pintem l'accuracy del model i la matriu de confusió\n",
    "print(\"RESULTAT GRADIENT BOOSTING:\")\n",
    "print('- Accuracy: {}'.format(round(accuracy_score(y_test, y_pred)*100, 3)))\n",
    "print('- Emissions C02: {}'.format(emissions))\n",
    "print('- Temps: {}'.format(time))"
   ]
  },
  {
   "cell_type": "markdown",
   "id": "0d77c68e",
   "metadata": {},
   "source": [
    "## Conclusions dades redimensionades"
   ]
  },
  {
   "cell_type": "code",
   "execution_count": 44,
   "id": "6b111de9",
   "metadata": {},
   "outputs": [
    {
     "data": {
      "text/html": [
       "<div>\n",
       "<style scoped>\n",
       "    .dataframe tbody tr th:only-of-type {\n",
       "        vertical-align: middle;\n",
       "    }\n",
       "\n",
       "    .dataframe tbody tr th {\n",
       "        vertical-align: top;\n",
       "    }\n",
       "\n",
       "    .dataframe thead th {\n",
       "        text-align: right;\n",
       "    }\n",
       "</style>\n",
       "<table border=\"1\" class=\"dataframe\">\n",
       "  <thead>\n",
       "    <tr style=\"text-align: right;\">\n",
       "      <th></th>\n",
       "      <th>variable</th>\n",
       "      <th>pes</th>\n",
       "    </tr>\n",
       "  </thead>\n",
       "  <tbody>\n",
       "    <tr>\n",
       "      <th>10</th>\n",
       "      <td>SPEED_ZONE</td>\n",
       "      <td>0.239286</td>\n",
       "    </tr>\n",
       "    <tr>\n",
       "      <th>9</th>\n",
       "      <td>light_avg_scale</td>\n",
       "      <td>0.146429</td>\n",
       "    </tr>\n",
       "    <tr>\n",
       "      <th>8</th>\n",
       "      <td>NO_PERSONS</td>\n",
       "      <td>0.125000</td>\n",
       "    </tr>\n",
       "    <tr>\n",
       "      <th>7</th>\n",
       "      <td>NO_OF_VEHICLES</td>\n",
       "      <td>0.096429</td>\n",
       "    </tr>\n",
       "    <tr>\n",
       "      <th>4</th>\n",
       "      <td>SURFACE_COND</td>\n",
       "      <td>0.042857</td>\n",
       "    </tr>\n",
       "  </tbody>\n",
       "</table>\n",
       "</div>"
      ],
      "text/plain": [
       "           variable       pes\n",
       "10       SPEED_ZONE  0.239286\n",
       "9   light_avg_scale  0.146429\n",
       "8        NO_PERSONS  0.125000\n",
       "7    NO_OF_VEHICLES  0.096429\n",
       "4      SURFACE_COND  0.042857"
      ]
     },
     "execution_count": 44,
     "metadata": {},
     "output_type": "execute_result"
    },
    {
     "data": {
      "image/png": "[encoded data removed]",
      "text/plain": [
       "<Figure size 432x288 with 1 Axes>"
      ]
     },
     "metadata": {
      "needs_background": "light"
     },
     "output_type": "display_data"
    }
   ],
   "source": [
    "perm_importance = permutation_importance(classifier, X_test, y_test)\n",
    "\n",
    "feature_names = X.columns\n",
    "features = np.array(feature_names)\n",
    "\n",
    "sorted_idx = perm_importance.importances_mean.argsort()\n",
    "\n",
    "weight_variab              = pd.DataFrame(\n",
    "                            {'variable': features[sorted_idx],\n",
    "                             'pes'     : perm_importance.importances_mean[sorted_idx]}\n",
    "                            )\n",
    "\n",
    "\n",
    "speed_z = {'variable':'SPEED_ZONE', 'pes' : sum(weight_variab[weight_variab['variable'].str.contains(\"SZ\")]['pes'])}\n",
    "\n",
    "weight_variab = weight_variab.append(speed_z, ignore_index=True)\n",
    "\n",
    "weight_variab = weight_variab[~(weight_variab['variable'].str.contains(\"SZ\"))]\n",
    "\n",
    "# Ordenem i pintem el resultat\n",
    "weight_variab = weight_variab.sort_values('pes', ascending=True)\n",
    "\n",
    "plt.barh(weight_variab['variable'], weight_variab['pes'])\n",
    "plt.xlabel(\"Permutation Importance\")\n",
    "weight_variab.sort_values('pes', ascending=False)"
   ]
  }
 ],
 "metadata": {
  "kernelspec": {
   "display_name": "Python 3 (ipykernel)",
   "language": "python",
   "name": "python3"
  },
  "language_info": {
   "codemirror_mode": {
    "name": "ipython",
    "version": 3
   },
   "file_extension": ".py",
   "mimetype": "text/x-python",
   "name": "python",
   "nbconvert_exporter": "python",
   "pygments_lexer": "ipython3",
   "version": "3.8.10"
  }
 },
 "nbformat": 4,
 "nbformat_minor": 5
}
